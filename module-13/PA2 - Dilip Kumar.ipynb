{
  "cells": [
    {
      "cell_type": "markdown",
      "metadata": {
        "id": "NbSROLFt54DJ"
      },
      "source": [
        "<h1 align=\"center\"><b>Programming Assignment 2 (100 points total)</b></h1>\n",
        "<h3 align=\"center\"><b>Due at the end of Module 14</b></h3><br>\n"
      ]
    },
    {
      "cell_type": "markdown",
      "metadata": {
        "id": "B-aMAJzd54DK"
      },
      "source": [
        "## Question 1: MNIST Feature Extraction and Classification (50 Points Total)\n",
        "\n",
        "### **Objective**  \n",
        "In this question, you will explore **feature extraction** and **image classification** using the **MNIST handwritten digit dataset**. Your task is to preprocess raw image data, apply the **2D Discrete Cosine Transform (DCT)**, extract directionally informative coefficients using **frequency masks**, and conduct **dimensionality reduction via eigen decomposition**. You will then use the resulting features to train and compare multiple **classification algorithms**, including traditional machine learning and deep learning approaches.\n",
        "\n",
        "- **Dataset:** [MNIST Handwritten Digit Dataset](https://www.openml.org/d/554)  \n",
        "- **Focus Areas:** **Signal-based feature engineering**, **dimensionality reduction**, **supervised classification**, and **model comparison**.\n",
        "\n",
        "---\n",
        "\n",
        "### **Part 1: Preprocessing and Visualization (10 Points)**\n",
        "#### **Instructions:**\n",
        "#### 1. Load the **MNIST Dataset**\n",
        "\n",
        "Note: sklearn throws 404 for `mnist_784` therefore switched to keras.\n",
        "\n"
      ]
    },
    {
      "cell_type": "code",
      "execution_count": 1,
      "metadata": {
        "colab": {
          "base_uri": "https://localhost:8080/"
        },
        "id": "yZ2Jj7bW_6ii",
        "outputId": "a7ff5c34-3857-4d4d-dc01-2692b7be5508"
      },
      "outputs": [
        {
          "output_type": "stream",
          "name": "stdout",
          "text": [
            "Combined and flattened data shape (X): (70000, 784)\n",
            "Combined labels shape (y): (70000,)\n"
          ]
        }
      ],
      "source": [
        "import tensorflow as tf\n",
        "import numpy as np\n",
        "\n",
        "(x_train, y_train), (x_test, y_test) = tf.keras.datasets.mnist.load_data()\n",
        "\n",
        "# A single data and target array.\n",
        "X = np.concatenate([x_train, x_test])\n",
        "y = np.concatenate([y_train, y_test])\n",
        "\n",
        "# scikit-learn flattens the images, let's do that too for consistency.\n",
        "X_flattened = X.reshape((X.shape[0], -1))\n",
        "\n",
        "print(f\"Combined and flattened data shape (X): {X_flattened.shape}\")\n",
        "print(f\"Combined labels shape (y): {y.shape}\")\n"
      ]
    },
    {
      "cell_type": "markdown",
      "metadata": {
        "id": "XjmNEmKJDbvX"
      },
      "source": [
        "Inspect its structure (e.g., flattened vector, first column label, no. of observations)."
      ]
    },
    {
      "cell_type": "code",
      "execution_count": 2,
      "metadata": {
        "colab": {
          "base_uri": "https://localhost:8080/"
        },
        "id": "Y-0UwhETC0_e",
        "outputId": "9780301a-4910-4e07-8bca-22215e05dbfa"
      },
      "outputs": [
        {
          "output_type": "stream",
          "name": "stdout",
          "text": [
            "1. Total Number of Observations: 70000\n",
            "\n",
            "2. Feature Data Structure:\n",
            "   - Each image is represented as a flattened vector.\n",
            "   - The shape of the data array is: (70000, 784)\n",
            "   - This means there are 70000 observations, each with 784 features (pixels).\n",
            "   - Example of the first image's flattened vector (first 10 values): [0 0 0 0 0 0 0 0 0 0]\n",
            "\n",
            "3. Label (Target) Data Structure:\n",
            "   - The labels are stored in a separate 1D array.\n",
            "   - The shape of the labels array is: (70000,)\n",
            "   - The label for the first observation is: '5'\n",
            "   - This means the first image is a handwritten digit '5'.\n"
          ]
        }
      ],
      "source": [
        "# 1. Total number of observations (images)\n",
        "num_observations = X_flattened.shape[0]\n",
        "print(f\"1. Total Number of Observations: {num_observations}\")\n",
        "\n",
        "# 2. Structure of the feature data (flattened vector)\n",
        "num_features = X_flattened.shape[1]\n",
        "print(f\"\\n2. Feature Data Structure:\")\n",
        "print(f\"   - Each image is represented as a flattened vector.\")\n",
        "print(f\"   - The shape of the data array is: {X_flattened.shape}\")\n",
        "print(f\"   - This means there are {num_observations} observations, each with {num_features} features (pixels).\")\n",
        "\n",
        "# Let's look at the first observation (the first image's vector)\n",
        "first_image_vector = X_flattened[0]\n",
        "print(f\"   - Example of the first image's flattened vector (first 10 values): {first_image_vector[:10]}\")\n",
        "\n",
        "# 3. Structure of the labels (target data)\n",
        "print(f\"\\n3. Label (Target) Data Structure:\")\n",
        "print(f\"   - The labels are stored in a separate 1D array.\")\n",
        "print(f\"   - The shape of the labels array is: {y.shape}\")\n",
        "\n",
        "# The label for the first observation\n",
        "# The `fetch_openml` version returns strings, so we'll cast to string for consistency.\n",
        "first_label = str(y[0])\n",
        "print(f\"   - The label for the first observation is: '{first_label}'\")\n",
        "print(f\"   - This means the first image is a handwritten digit '{first_label}'.\")"
      ]
    },
    {
      "cell_type": "markdown",
      "metadata": {
        "id": "YrGL7Y9Q_ysj"
      },
      "source": [
        "\n",
        "#### **2. Display example images of each written number 0-9.**\n"
      ]
    },
    {
      "cell_type": "code",
      "execution_count": 3,
      "metadata": {
        "colab": {
          "base_uri": "https://localhost:8080/",
          "height": 529
        },
        "id": "bmG3mmmoEwsG",
        "outputId": "37641b3f-85e3-48ed-9759-67bcd48ce767"
      },
      "outputs": [
        {
          "output_type": "display_data",
          "data": {
            "text/plain": [
              "<Figure size 1000x500 with 10 Axes>"
            ],
            "image/png": "[encoded data removed]"
          },
          "metadata": {}
        }
      ],
      "source": [
        "import numpy as np\n",
        "import matplotlib.pyplot as plt\n",
        "\n",
        "# --- Find and Display an Example for Each Digit ---\n",
        "# The digits we want to find\n",
        "digits_to_display = range(10)\n",
        "\n",
        "# Set up the plot: 2 rows, 5 columns\n",
        "fig, axes = plt.subplots(nrows=2, ncols=5, figsize=(10, 5))\n",
        "\n",
        "# Use ax.flatten() to easily iterate over all subplots\n",
        "for i, ax in enumerate(axes.flatten()):\n",
        "    if i < len(digits_to_display):\n",
        "        digit = digits_to_display[i]\n",
        "\n",
        "        # Find the index of the first image with the current digit label\n",
        "        # np.where returns a tuple, so we take the first element, then the first index\n",
        "        idx = np.where(y == digit)[0][0]\n",
        "\n",
        "        # Get the image vector at that index\n",
        "        image_vector = X_flattened[idx]\n",
        "\n",
        "        # Reshape it to 28x28 to gray scale image\n",
        "        image_grid = image_vector.reshape(28, 28)\n",
        "\n",
        "        # Plot the image on the current subplot\n",
        "        ax.imshow(image_grid, cmap='gray_r') # 'gray_r' for inverted black/white\n",
        "        ax.set_title(f\"Digit: {digit}\", fontsize=14)\n",
        "\n",
        "# Add a main title to the entire figure\n",
        "plt.suptitle(\"Example Images for Each Digit (0-9)\", fontsize=20, y=1.02)\n",
        "plt.tight_layout()\n",
        "plt.show()"
      ]
    },
    {
      "cell_type": "markdown",
      "metadata": {
        "id": "4DYdCz1XEh2M"
      },
      "source": [
        "3. Final dataset must include representative samples from each digit class (at least 100 per class). We understand compute limitations and thus do not require all observations but you can use all if you so choose.\n",
        "\n",
        "This is a very common and practical step in machine learning projects. Working with the full 70,000 images can be slow for initial exploration and model prototyping. Creating a smaller, stratified sample is the perfect solution.\n",
        "\n",
        "Let's do following\n",
        "\n",
        "1. Define the number of samples as 500 to take from each class.\n",
        "2. Loop through each digit from 0 to 9.\n",
        " - For each digit, find all the indices where that digit appears.\n",
        " - Randomly select 500 of those indices.\n",
        " - Collect the data and labels for the selected indices.\n",
        "3. Combine the data for all 10 classes into a final, smaller dataset.\n",
        "4. Shuffle the final dataset to ensure the samples are not ordered by class."
      ]
    },
    {
      "cell_type": "code",
      "execution_count": 4,
      "metadata": {
        "colab": {
          "base_uri": "https://localhost:8080/"
        },
        "id": "IVUOfCoRkqkn",
        "outputId": "29e47fb7-b2a2-4228-dcf4-50bd17b7c5c4"
      },
      "outputs": [
        {
          "output_type": "stream",
          "name": "stdout",
          "text": [
            "\n",
            "--- Final Sampled Dataset ---\n",
            "Shape of the final data (X_final): (5000, 784)\n",
            "Shape of the final labels (y_final): (5000,)\n",
            "\n",
            "Class distribution in the final dataset:\n",
            "0    500\n",
            "1    500\n",
            "2    500\n",
            "3    500\n",
            "4    500\n",
            "5    500\n",
            "6    500\n",
            "7    500\n",
            "8    500\n",
            "9    500\n",
            "Name: count, dtype: int64\n",
            "\n",
            "Success! The final dataset is perfectly balanced.\n"
          ]
        }
      ],
      "source": [
        "import numpy as np\n",
        "from sklearn.utils import shuffle\n",
        "\n",
        "# --- 1. Define Sampling Parameters ---\n",
        "# Total dataset size will be 10 classes * 500 samples/class = 5000 observations.\n",
        "samples_per_class = 500\n",
        "num_classes = 10\n",
        "\n",
        "# --- 2. Create the Stratified Sample ---\n",
        "\n",
        "# Lists to hold the sampled data and labels\n",
        "X_sampled_list = []\n",
        "y_sampled_list = []\n",
        "\n",
        "for digit in range(num_classes):\n",
        "    # a. Find all indices for the current digit\n",
        "    indices_for_digit = np.where(y == digit)[0]\n",
        "\n",
        "    # b. Randomly choose 'samples_per_class' indices from that list\n",
        "    # We use replace=False to ensure we don't pick the same image twice.\n",
        "    random_indices = np.random.choice(indices_for_digit, samples_per_class, replace=False)\n",
        "\n",
        "    # c. Use these indices to get the data and labels\n",
        "    X_sampled_list.append(X_flattened[random_indices])\n",
        "    y_sampled_list.append(y[random_indices])\n",
        "\n",
        "# --- 3. Combine and Finalize the Dataset ---\n",
        "X_final = np.concatenate(X_sampled_list, axis=0)\n",
        "y_final = np.concatenate(y_sampled_list, axis=0)\n",
        "\n",
        "# --- 4. Shuffle the Final Dataset ---\n",
        "X_final, y_final = shuffle(X_final, y_final, random_state=42) # random_state for reproducibility\n",
        "\n",
        "print(\"\\n--- Final Sampled Dataset ---\")\n",
        "print(f\"Shape of the final data (X_final): {X_final.shape}\")\n",
        "print(f\"Shape of the final labels (y_final): {y_final.shape}\")\n",
        "\n",
        "# Let's verify the class distribution to confirm our stratification worked\n",
        "import pandas as pd\n",
        "label_counts = pd.Series(y_final).value_counts().sort_index()\n",
        "print(\"\\nClass distribution in the final dataset:\")\n",
        "print(label_counts)\n",
        "\n",
        "if all(label_counts == samples_per_class):\n",
        "    print(\"\\nSuccess! The final dataset is perfectly balanced.\")\n",
        "else:\n",
        "    print(\"\\nWarning: The final dataset is not perfectly balanced.\")"
      ]
    },
    {
      "cell_type": "markdown",
      "metadata": {
        "id": "HbW0vOQVl9Vf"
      },
      "source": [
        "\n",
        "#### **Deliverables:**\n",
        "- 9 black & white images of an example of a handwritten digit from the dataset\n",
        "- Output showing how many observations and features\n",
        "- Proof that you have a representative sample from each class\n",
        "---"
      ]
    },
    {
      "cell_type": "markdown",
      "metadata": {
        "id": "_nrw2fGXmshZ"
      },
      "source": [
        "### **Part 2: Feature Engineering using Eigen Decompoosition (15 points)**\n",
        "\n",
        "Let's summarize the concepts we are going to use for feature engineering.\n",
        "1. **2D Discrete Cosine Transform (DCT):**\n",
        "  - Instead of representing the image by its pixel values, we represent it by a combination of simple patterns (frequencies).\n",
        "  - The top-left corner of the DCT output represents the overall brightness (coarse information)\n",
        "  - The bottom-right corner represents the finest details and sharpest edges (high-frequency information).\n",
        "2. **Directional Masks:**\n",
        "  - We are assuming that different handwritten digits are defined by different combinations of horizontal, vertical, and diagonal strokes.\n",
        "  - The masks are a simple way to isolate the DCT coefficients that are most likely to correspond to these directional patterns.\n",
        "3. **Covariance & Eigen Decomposition (PCA):**\n",
        "  - This is the core of the dimensionality reduction.\n",
        "  - For each direction (e.g., horizontal), we have many DCT coefficients.\n",
        "  - Many of these might be redundant or unimportant.\n",
        "  - By performing eigen decomposition on the covariance matrix (which is the essence of Principal Component Analysis - PCA), we are finding the most significant patterns of variation within those directional coefficients.\n",
        "  - The top eigenvectors represent the dominant patterns that best describe the data.\n",
        "4. **Projection & Concatenation:**\n",
        "  - By projecting our data onto the top 20 eigenvectors for each direction, we are compressing the information into a much smaller, 20-dimensional space that captures the \"essence\" of the horizontal patterns.\n",
        "  - We do this for all three directions and then staple them together (20 + 20 + 20 = 60) to create a final, rich feature vector for each image.\n",
        "  \n",
        "#### **Instructions:**\n",
        "1. Using `scipy.fft.dct` or `scipy.fftpack.dct` apply the **2D Discrete Cosine Transform** on each 28x28 image.\n",
        "2. Using the directional masks created using the code below extract the **directional coefficients** from each direction.\n"
      ]
    },
    {
      "cell_type": "code",
      "execution_count": 5,
      "metadata": {
        "id": "kUVWwxZ9qoIR"
      },
      "outputs": [],
      "source": [
        "def create_custom_dct_masks(size=28):\n",
        "  h_mask = np.zeros((size, size), dtype=bool)\n",
        "  v_mask = np.zeros((size, size), dtype=bool)\n",
        "  d_mask = np.zeros((size, size), dtype=bool)\n",
        "\n",
        "  for i in range(size):\n",
        "      for j in range(size):\n",
        "            # Horizontal mask: upper triangle including diagonal\n",
        "            if i >= j:\n",
        "              h_mask[i, j] = True\n",
        "            # Vertical mask: lower triangle including diagonal\n",
        "            if j >= i:\n",
        "              v_mask[i, j] = True\n",
        "            # Diagonal mask: band near the diagonal\n",
        "            if abs(i - j) <= 1:\n",
        "              d_mask[i, j] = True\n",
        "\n",
        "  return h_mask, v_mask, d_mask"
      ]
    },
    {
      "cell_type": "markdown",
      "metadata": {
        "id": "qY69af3mqlMf"
      },
      "source": [
        "3. For each directional component, **flatten the selected masked DCT coefficients** and create a matrix of samples.\n"
      ]
    },
    {
      "cell_type": "code",
      "execution_count": 6,
      "metadata": {
        "colab": {
          "base_uri": "https://localhost:8080/"
        },
        "id": "MZ1Al7hRrews",
        "outputId": "e3a27c7f-4829-4f6a-989f-eebdd8d50b57"
      },
      "outputs": [
        {
          "output_type": "stream",
          "name": "stdout",
          "text": [
            "\n",
            "Applying 2D Discrete Cosine Transform to all images...\n",
            "Shape of DCT images: (5000, 28, 28)\n",
            "\n",
            "Creating directional masks...\n"
          ]
        }
      ],
      "source": [
        "from scipy.fft import dctn # More direct way for 2D DCT\n",
        "from sklearn.utils import shuffle\n",
        "\n",
        "# --- Reshape images and apply 2D DCT to all of them ---\n",
        "print(\"\\nApplying 2D Discrete Cosine Transform to all images...\")\n",
        "# Reshape the flattened 784-vectors back into 28x28 images\n",
        "images_2d = X_final.reshape(-1, 28, 28)\n",
        "\n",
        "# Apply the 2D DCT to all images. `dctn` with `axes=(1,2)` does this efficiently.\n",
        "dct_images = dctn(images_2d, axes=(1, 2), norm='ortho')\n",
        "print(f\"Shape of DCT images: {dct_images.shape}\")\n",
        "\n",
        "\n",
        "# --- Create the directional masks ---\n",
        "print(\"\\nCreating directional masks...\")\n",
        "h_mask, v_mask, d_mask = create_custom_dct_masks()"
      ]
    },
    {
      "cell_type": "markdown",
      "metadata": {
        "id": "LSA7nL4prRB1"
      },
      "source": [
        "4. Compute the covariance matrix and perform **eigen decomposition**\n",
        "5. For each of the three directions, **retain the top 20 eigenvectors**\n"
      ]
    },
    {
      "cell_type": "code",
      "execution_count": 7,
      "metadata": {
        "colab": {
          "base_uri": "https://localhost:8080/"
        },
        "id": "J27Tg5Hkrybf",
        "outputId": "61e61732-d719-4f9d-88f2-89e4434bf3ed"
      },
      "outputs": [
        {
          "output_type": "stream",
          "name": "stdout",
          "text": [
            "\n",
            "Processing each directional component...\n",
            "\n",
            "--- Processing Horizontal direction ---\n",
            "Shape of Horizontal coefficients matrix: (5000, 406)\n",
            "Computing covariance and performing eigen decomposition...\n",
            "Shape of top 20 eigenvectors: (406, 20)\n",
            "Shape of projected features for Horizontal: (5000, 20)\n",
            "\n",
            "--- Processing Vertical direction ---\n",
            "Shape of Vertical coefficients matrix: (5000, 406)\n",
            "Computing covariance and performing eigen decomposition...\n",
            "Shape of top 20 eigenvectors: (406, 20)\n",
            "Shape of projected features for Vertical: (5000, 20)\n",
            "\n",
            "--- Processing Diagonal direction ---\n",
            "Shape of Diagonal coefficients matrix: (5000, 82)\n",
            "Computing covariance and performing eigen decomposition...\n",
            "Shape of top 20 eigenvectors: (82, 20)\n",
            "Shape of projected features for Diagonal: (5000, 20)\n"
          ]
        }
      ],
      "source": [
        "# --- Process each direction (Mask, Decompose, Project) ---\n",
        "print(\"\\nProcessing each directional component...\")\n",
        "all_projected_features = []\n",
        "masks = {'Horizontal': h_mask, 'Vertical': v_mask, 'Diagonal': d_mask}\n",
        "num_eigenvectors = 20\n",
        "\n",
        "for direction, mask in masks.items():\n",
        "    print(f\"\\n--- Processing {direction} direction ---\")\n",
        "\n",
        "    # Flatten the selected masked DCT coefficients for all samples\n",
        "    # The mask is applied to each 28x28 DCT image, and the result is flattened.\n",
        "    directional_coeffs = dct_images[:, mask]\n",
        "    print(f\"Shape of {direction} coefficients matrix: {directional_coeffs.shape}\")\n",
        "\n",
        "    # Compute covariance matrix and perform eigen decomposition\n",
        "    print(\"Computing covariance and performing eigen decomposition...\")\n",
        "    # rowvar=False because our samples are rows\n",
        "    covariance_matrix = np.cov(directional_coeffs, rowvar=False)\n",
        "\n",
        "    # Use eigh for symmetric matrices like covariance matrices\n",
        "    eigenvalues, eigenvectors = np.linalg.eigh(covariance_matrix)\n",
        "\n",
        "    # Retain the top 20 eigenvectors\n",
        "    # eigh returns eigenvectors sorted by eigenvalue in ascending order.\n",
        "    # The \"top\" eigenvectors correspond to the largest eigenvalues, so we take the last 20.\n",
        "    top_eigenvectors = eigenvectors[:, -num_eigenvectors:]\n",
        "    print(f\"Shape of top {num_eigenvectors} eigenvectors: {top_eigenvectors.shape}\")\n",
        "\n",
        "    # Project the directional coefficients onto the top eigenvectors\n",
        "    projected_features = directional_coeffs @ top_eigenvectors\n",
        "    print(f\"Shape of projected features for {direction}: {projected_features.shape}\")\n",
        "\n",
        "    all_projected_features.append(projected_features)"
      ]
    },
    {
      "cell_type": "markdown",
      "metadata": {
        "id": "3hu95nKwrx1s"
      },
      "source": [
        "6. Concatenate the **three sets of 20-dimensional features** (total 60 features per sample) to represent your final feature representation\n",
        "\n",
        "#### **Deliverables:**\n",
        "- 60 x number of observations dataset to use for supervised learning classification\n",
        "\n",
        "---"
      ]
    },
    {
      "cell_type": "code",
      "execution_count": 8,
      "metadata": {
        "colab": {
          "base_uri": "https://localhost:8080/"
        },
        "id": "nlZ6qzXVqaBU",
        "outputId": "0d925c86-d3a9-4eae-f1d3-38fe781d5bda"
      },
      "outputs": [
        {
          "output_type": "stream",
          "name": "stdout",
          "text": [
            "\n",
            "Concatenating all directional features...\n",
            "\n",
            "--- Final Engineered Feature Dataset ---\n",
            "Shape of the final feature matrix: (5000, 60)\n",
            "This is the (60 x number of observations) dataset for supervised learning.\n"
          ]
        }
      ],
      "source": [
        "# --- Concatenate the three sets of features ---\n",
        "print(\"\\nConcatenating all directional features...\")\n",
        "# Concatenate along the columns (axis=1) to create the final feature matrix\n",
        "X_features_final = np.concatenate(all_projected_features, axis=1)\n",
        "\n",
        "\n",
        "# --- Deliverable ---\n",
        "print(\"\\n--- Final Engineered Feature Dataset ---\")\n",
        "print(f\"Shape of the final feature matrix: {X_features_final.shape}\")\n",
        "print(\"This is the (60 x number of observations) dataset for supervised learning.\")\n"
      ]
    },
    {
      "cell_type": "markdown",
      "metadata": {
        "id": "bET4grscszbQ"
      },
      "source": [
        "**Note:** We can now use `X_features_final` and `y_final` for our classification models."
      ]
    },
    {
      "cell_type": "markdown",
      "metadata": {
        "id": "lscX4xoetOtJ"
      },
      "source": [
        "### **Part 3: Classification Algorithms (25 Points)**\n",
        "\n",
        "#### **Instructions:**\n",
        "1. **Train a supervised classification model** using the reduced feature set generated in **Part 2**. You may use any built-in method from `sklearn` (e.g., KNN, Random Forest, SVM, etc.).  "
      ]
    },
    {
      "cell_type": "code",
      "execution_count": 9,
      "metadata": {
        "colab": {
          "base_uri": "https://localhost:8080/",
          "height": 150
        },
        "id": "WIe1AcBruvSb",
        "outputId": "df5b1f24-b539-4c8b-99db-99898c3902be"
      },
      "outputs": [
        {
          "output_type": "stream",
          "name": "stdout",
          "text": [
            "--- Data Splitting ---\n",
            "Training data shape: (4000, 60)\n",
            "Testing data shape: (1000, 60)\n",
            "Training a Random Forest Classifier...\n"
          ]
        },
        {
          "output_type": "execute_result",
          "data": {
            "text/plain": [
              "RandomForestClassifier(n_jobs=-1, random_state=42)"
            ],
            "text/html": [
              "<style>#sk-container-id-1 {\n",
              "  /* Definition of color scheme common for light and dark mode */\n",
              "  --sklearn-color-text: #000;\n",
              "  --sklearn-color-text-muted: #666;\n",
              "  --sklearn-color-line: gray;\n",
              "  /* Definition of color scheme for unfitted estimators */\n",
              "  --sklearn-color-unfitted-level-0: #fff5e6;\n",
              "  --sklearn-color-unfitted-level-1: #f6e4d2;\n",
              "  --sklearn-color-unfitted-level-2: #ffe0b3;\n",
              "  --sklearn-color-unfitted-level-3: chocolate;\n",
              "  /* Definition of color scheme for fitted estimators */\n",
              "  --sklearn-color-fitted-level-0: #f0f8ff;\n",
              "  --sklearn-color-fitted-level-1: #d4ebff;\n",
              "  --sklearn-color-fitted-level-2: #b3dbfd;\n",
              "  --sklearn-color-fitted-level-3: cornflowerblue;\n",
              "\n",
              "  /* Specific color for light theme */\n",
              "  --sklearn-color-text-on-default-background: var(--sg-text-color, var(--theme-code-foreground, var(--jp-content-font-color1, black)));\n",
              "  --sklearn-color-background: var(--sg-background-color, var(--theme-background, var(--jp-layout-color0, white)));\n",
              "  --sklearn-color-border-box: var(--sg-text-color, var(--theme-code-foreground, var(--jp-content-font-color1, black)));\n",
              "  --sklearn-color-icon: #696969;\n",
              "\n",
              "  @media (prefers-color-scheme: dark) {\n",
              "    /* Redefinition of color scheme for dark theme */\n",
              "    --sklearn-color-text-on-default-background: var(--sg-text-color, var(--theme-code-foreground, var(--jp-content-font-color1, white)));\n",
              "    --sklearn-color-background: var(--sg-background-color, var(--theme-background, var(--jp-layout-color0, #111)));\n",
              "    --sklearn-color-border-box: var(--sg-text-color, var(--theme-code-foreground, var(--jp-content-font-color1, white)));\n",
              "    --sklearn-color-icon: #878787;\n",
              "  }\n",
              "}\n",
              "\n",
              "#sk-container-id-1 {\n",
              "  color: var(--sklearn-color-text);\n",
              "}\n",
              "\n",
              "#sk-container-id-1 pre {\n",
              "  padding: 0;\n",
              "}\n",
              "\n",
              "#sk-container-id-1 input.sk-hidden--visually {\n",
              "  border: 0;\n",
              "  clip: rect(1px 1px 1px 1px);\n",
              "  clip: rect(1px, 1px, 1px, 1px);\n",
              "  height: 1px;\n",
              "  margin: -1px;\n",
              "  overflow: hidden;\n",
              "  padding: 0;\n",
              "  position: absolute;\n",
              "  width: 1px;\n",
              "}\n",
              "\n",
              "#sk-container-id-1 div.sk-dashed-wrapped {\n",
              "  border: 1px dashed var(--sklearn-color-line);\n",
              "  margin: 0 0.4em 0.5em 0.4em;\n",
              "  box-sizing: border-box;\n",
              "  padding-bottom: 0.4em;\n",
              "  background-color: var(--sklearn-color-background);\n",
              "}\n",
              "\n",
              "#sk-container-id-1 div.sk-container {\n",
              "  /* jupyter's `normalize.less` sets `[hidden] { display: none; }`\n",
              "     but bootstrap.min.css set `[hidden] { display: none !important; }`\n",
              "     so we also need the `!important` here to be able to override the\n",
              "     default hidden behavior on the sphinx rendered scikit-learn.org.\n",
              "     See: https://github.com/scikit-learn/scikit-learn/issues/21755 */\n",
              "  display: inline-block !important;\n",
              "  position: relative;\n",
              "}\n",
              "\n",
              "#sk-container-id-1 div.sk-text-repr-fallback {\n",
              "  display: none;\n",
              "}\n",
              "\n",
              "div.sk-parallel-item,\n",
              "div.sk-serial,\n",
              "div.sk-item {\n",
              "  /* draw centered vertical line to link estimators */\n",
              "  background-image: linear-gradient(var(--sklearn-color-text-on-default-background), var(--sklearn-color-text-on-default-background));\n",
              "  background-size: 2px 100%;\n",
              "  background-repeat: no-repeat;\n",
              "  background-position: center center;\n",
              "}\n",
              "\n",
              "/* Parallel-specific style estimator block */\n",
              "\n",
              "#sk-container-id-1 div.sk-parallel-item::after {\n",
              "  content: \"\";\n",
              "  width: 100%;\n",
              "  border-bottom: 2px solid var(--sklearn-color-text-on-default-background);\n",
              "  flex-grow: 1;\n",
              "}\n",
              "\n",
              "#sk-container-id-1 div.sk-parallel {\n",
              "  display: flex;\n",
              "  align-items: stretch;\n",
              "  justify-content: center;\n",
              "  background-color: var(--sklearn-color-background);\n",
              "  position: relative;\n",
              "}\n",
              "\n",
              "#sk-container-id-1 div.sk-parallel-item {\n",
              "  display: flex;\n",
              "  flex-direction: column;\n",
              "}\n",
              "\n",
              "#sk-container-id-1 div.sk-parallel-item:first-child::after {\n",
              "  align-self: flex-end;\n",
              "  width: 50%;\n",
              "}\n",
              "\n",
              "#sk-container-id-1 div.sk-parallel-item:last-child::after {\n",
              "  align-self: flex-start;\n",
              "  width: 50%;\n",
              "}\n",
              "\n",
              "#sk-container-id-1 div.sk-parallel-item:only-child::after {\n",
              "  width: 0;\n",
              "}\n",
              "\n",
              "/* Serial-specific style estimator block */\n",
              "\n",
              "#sk-container-id-1 div.sk-serial {\n",
              "  display: flex;\n",
              "  flex-direction: column;\n",
              "  align-items: center;\n",
              "  background-color: var(--sklearn-color-background);\n",
              "  padding-right: 1em;\n",
              "  padding-left: 1em;\n",
              "}\n",
              "\n",
              "\n",
              "/* Toggleable style: style used for estimator/Pipeline/ColumnTransformer box that is\n",
              "clickable and can be expanded/collapsed.\n",
              "- Pipeline and ColumnTransformer use this feature and define the default style\n",
              "- Estimators will overwrite some part of the style using the `sk-estimator` class\n",
              "*/\n",
              "\n",
              "/* Pipeline and ColumnTransformer style (default) */\n",
              "\n",
              "#sk-container-id-1 div.sk-toggleable {\n",
              "  /* Default theme specific background. It is overwritten whether we have a\n",
              "  specific estimator or a Pipeline/ColumnTransformer */\n",
              "  background-color: var(--sklearn-color-background);\n",
              "}\n",
              "\n",
              "/* Toggleable label */\n",
              "#sk-container-id-1 label.sk-toggleable__label {\n",
              "  cursor: pointer;\n",
              "  display: flex;\n",
              "  width: 100%;\n",
              "  margin-bottom: 0;\n",
              "  padding: 0.5em;\n",
              "  box-sizing: border-box;\n",
              "  text-align: center;\n",
              "  align-items: start;\n",
              "  justify-content: space-between;\n",
              "  gap: 0.5em;\n",
              "}\n",
              "\n",
              "#sk-container-id-1 label.sk-toggleable__label .caption {\n",
              "  font-size: 0.6rem;\n",
              "  font-weight: lighter;\n",
              "  color: var(--sklearn-color-text-muted);\n",
              "}\n",
              "\n",
              "#sk-container-id-1 label.sk-toggleable__label-arrow:before {\n",
              "  /* Arrow on the left of the label */\n",
              "  content: \"▸\";\n",
              "  float: left;\n",
              "  margin-right: 0.25em;\n",
              "  color: var(--sklearn-color-icon);\n",
              "}\n",
              "\n",
              "#sk-container-id-1 label.sk-toggleable__label-arrow:hover:before {\n",
              "  color: var(--sklearn-color-text);\n",
              "}\n",
              "\n",
              "/* Toggleable content - dropdown */\n",
              "\n",
              "#sk-container-id-1 div.sk-toggleable__content {\n",
              "  max-height: 0;\n",
              "  max-width: 0;\n",
              "  overflow: hidden;\n",
              "  text-align: left;\n",
              "  /* unfitted */\n",
              "  background-color: var(--sklearn-color-unfitted-level-0);\n",
              "}\n",
              "\n",
              "#sk-container-id-1 div.sk-toggleable__content.fitted {\n",
              "  /* fitted */\n",
              "  background-color: var(--sklearn-color-fitted-level-0);\n",
              "}\n",
              "\n",
              "#sk-container-id-1 div.sk-toggleable__content pre {\n",
              "  margin: 0.2em;\n",
              "  border-radius: 0.25em;\n",
              "  color: var(--sklearn-color-text);\n",
              "  /* unfitted */\n",
              "  background-color: var(--sklearn-color-unfitted-level-0);\n",
              "}\n",
              "\n",
              "#sk-container-id-1 div.sk-toggleable__content.fitted pre {\n",
              "  /* unfitted */\n",
              "  background-color: var(--sklearn-color-fitted-level-0);\n",
              "}\n",
              "\n",
              "#sk-container-id-1 input.sk-toggleable__control:checked~div.sk-toggleable__content {\n",
              "  /* Expand drop-down */\n",
              "  max-height: 200px;\n",
              "  max-width: 100%;\n",
              "  overflow: auto;\n",
              "}\n",
              "\n",
              "#sk-container-id-1 input.sk-toggleable__control:checked~label.sk-toggleable__label-arrow:before {\n",
              "  content: \"▾\";\n",
              "}\n",
              "\n",
              "/* Pipeline/ColumnTransformer-specific style */\n",
              "\n",
              "#sk-container-id-1 div.sk-label input.sk-toggleable__control:checked~label.sk-toggleable__label {\n",
              "  color: var(--sklearn-color-text);\n",
              "  background-color: var(--sklearn-color-unfitted-level-2);\n",
              "}\n",
              "\n",
              "#sk-container-id-1 div.sk-label.fitted input.sk-toggleable__control:checked~label.sk-toggleable__label {\n",
              "  background-color: var(--sklearn-color-fitted-level-2);\n",
              "}\n",
              "\n",
              "/* Estimator-specific style */\n",
              "\n",
              "/* Colorize estimator box */\n",
              "#sk-container-id-1 div.sk-estimator input.sk-toggleable__control:checked~label.sk-toggleable__label {\n",
              "  /* unfitted */\n",
              "  background-color: var(--sklearn-color-unfitted-level-2);\n",
              "}\n",
              "\n",
              "#sk-container-id-1 div.sk-estimator.fitted input.sk-toggleable__control:checked~label.sk-toggleable__label {\n",
              "  /* fitted */\n",
              "  background-color: var(--sklearn-color-fitted-level-2);\n",
              "}\n",
              "\n",
              "#sk-container-id-1 div.sk-label label.sk-toggleable__label,\n",
              "#sk-container-id-1 div.sk-label label {\n",
              "  /* The background is the default theme color */\n",
              "  color: var(--sklearn-color-text-on-default-background);\n",
              "}\n",
              "\n",
              "/* On hover, darken the color of the background */\n",
              "#sk-container-id-1 div.sk-label:hover label.sk-toggleable__label {\n",
              "  color: var(--sklearn-color-text);\n",
              "  background-color: var(--sklearn-color-unfitted-level-2);\n",
              "}\n",
              "\n",
              "/* Label box, darken color on hover, fitted */\n",
              "#sk-container-id-1 div.sk-label.fitted:hover label.sk-toggleable__label.fitted {\n",
              "  color: var(--sklearn-color-text);\n",
              "  background-color: var(--sklearn-color-fitted-level-2);\n",
              "}\n",
              "\n",
              "/* Estimator label */\n",
              "\n",
              "#sk-container-id-1 div.sk-label label {\n",
              "  font-family: monospace;\n",
              "  font-weight: bold;\n",
              "  display: inline-block;\n",
              "  line-height: 1.2em;\n",
              "}\n",
              "\n",
              "#sk-container-id-1 div.sk-label-container {\n",
              "  text-align: center;\n",
              "}\n",
              "\n",
              "/* Estimator-specific */\n",
              "#sk-container-id-1 div.sk-estimator {\n",
              "  font-family: monospace;\n",
              "  border: 1px dotted var(--sklearn-color-border-box);\n",
              "  border-radius: 0.25em;\n",
              "  box-sizing: border-box;\n",
              "  margin-bottom: 0.5em;\n",
              "  /* unfitted */\n",
              "  background-color: var(--sklearn-color-unfitted-level-0);\n",
              "}\n",
              "\n",
              "#sk-container-id-1 div.sk-estimator.fitted {\n",
              "  /* fitted */\n",
              "  background-color: var(--sklearn-color-fitted-level-0);\n",
              "}\n",
              "\n",
              "/* on hover */\n",
              "#sk-container-id-1 div.sk-estimator:hover {\n",
              "  /* unfitted */\n",
              "  background-color: var(--sklearn-color-unfitted-level-2);\n",
              "}\n",
              "\n",
              "#sk-container-id-1 div.sk-estimator.fitted:hover {\n",
              "  /* fitted */\n",
              "  background-color: var(--sklearn-color-fitted-level-2);\n",
              "}\n",
              "\n",
              "/* Specification for estimator info (e.g. \"i\" and \"?\") */\n",
              "\n",
              "/* Common style for \"i\" and \"?\" */\n",
              "\n",
              ".sk-estimator-doc-link,\n",
              "a:link.sk-estimator-doc-link,\n",
              "a:visited.sk-estimator-doc-link {\n",
              "  float: right;\n",
              "  font-size: smaller;\n",
              "  line-height: 1em;\n",
              "  font-family: monospace;\n",
              "  background-color: var(--sklearn-color-background);\n",
              "  border-radius: 1em;\n",
              "  height: 1em;\n",
              "  width: 1em;\n",
              "  text-decoration: none !important;\n",
              "  margin-left: 0.5em;\n",
              "  text-align: center;\n",
              "  /* unfitted */\n",
              "  border: var(--sklearn-color-unfitted-level-1) 1pt solid;\n",
              "  color: var(--sklearn-color-unfitted-level-1);\n",
              "}\n",
              "\n",
              ".sk-estimator-doc-link.fitted,\n",
              "a:link.sk-estimator-doc-link.fitted,\n",
              "a:visited.sk-estimator-doc-link.fitted {\n",
              "  /* fitted */\n",
              "  border: var(--sklearn-color-fitted-level-1) 1pt solid;\n",
              "  color: var(--sklearn-color-fitted-level-1);\n",
              "}\n",
              "\n",
              "/* On hover */\n",
              "div.sk-estimator:hover .sk-estimator-doc-link:hover,\n",
              ".sk-estimator-doc-link:hover,\n",
              "div.sk-label-container:hover .sk-estimator-doc-link:hover,\n",
              ".sk-estimator-doc-link:hover {\n",
              "  /* unfitted */\n",
              "  background-color: var(--sklearn-color-unfitted-level-3);\n",
              "  color: var(--sklearn-color-background);\n",
              "  text-decoration: none;\n",
              "}\n",
              "\n",
              "div.sk-estimator.fitted:hover .sk-estimator-doc-link.fitted:hover,\n",
              ".sk-estimator-doc-link.fitted:hover,\n",
              "div.sk-label-container:hover .sk-estimator-doc-link.fitted:hover,\n",
              ".sk-estimator-doc-link.fitted:hover {\n",
              "  /* fitted */\n",
              "  background-color: var(--sklearn-color-fitted-level-3);\n",
              "  color: var(--sklearn-color-background);\n",
              "  text-decoration: none;\n",
              "}\n",
              "\n",
              "/* Span, style for the box shown on hovering the info icon */\n",
              ".sk-estimator-doc-link span {\n",
              "  display: none;\n",
              "  z-index: 9999;\n",
              "  position: relative;\n",
              "  font-weight: normal;\n",
              "  right: .2ex;\n",
              "  padding: .5ex;\n",
              "  margin: .5ex;\n",
              "  width: min-content;\n",
              "  min-width: 20ex;\n",
              "  max-width: 50ex;\n",
              "  color: var(--sklearn-color-text);\n",
              "  box-shadow: 2pt 2pt 4pt #999;\n",
              "  /* unfitted */\n",
              "  background: var(--sklearn-color-unfitted-level-0);\n",
              "  border: .5pt solid var(--sklearn-color-unfitted-level-3);\n",
              "}\n",
              "\n",
              ".sk-estimator-doc-link.fitted span {\n",
              "  /* fitted */\n",
              "  background: var(--sklearn-color-fitted-level-0);\n",
              "  border: var(--sklearn-color-fitted-level-3);\n",
              "}\n",
              "\n",
              ".sk-estimator-doc-link:hover span {\n",
              "  display: block;\n",
              "}\n",
              "\n",
              "/* \"?\"-specific style due to the `<a>` HTML tag */\n",
              "\n",
              "#sk-container-id-1 a.estimator_doc_link {\n",
              "  float: right;\n",
              "  font-size: 1rem;\n",
              "  line-height: 1em;\n",
              "  font-family: monospace;\n",
              "  background-color: var(--sklearn-color-background);\n",
              "  border-radius: 1rem;\n",
              "  height: 1rem;\n",
              "  width: 1rem;\n",
              "  text-decoration: none;\n",
              "  /* unfitted */\n",
              "  color: var(--sklearn-color-unfitted-level-1);\n",
              "  border: var(--sklearn-color-unfitted-level-1) 1pt solid;\n",
              "}\n",
              "\n",
              "#sk-container-id-1 a.estimator_doc_link.fitted {\n",
              "  /* fitted */\n",
              "  border: var(--sklearn-color-fitted-level-1) 1pt solid;\n",
              "  color: var(--sklearn-color-fitted-level-1);\n",
              "}\n",
              "\n",
              "/* On hover */\n",
              "#sk-container-id-1 a.estimator_doc_link:hover {\n",
              "  /* unfitted */\n",
              "  background-color: var(--sklearn-color-unfitted-level-3);\n",
              "  color: var(--sklearn-color-background);\n",
              "  text-decoration: none;\n",
              "}\n",
              "\n",
              "#sk-container-id-1 a.estimator_doc_link.fitted:hover {\n",
              "  /* fitted */\n",
              "  background-color: var(--sklearn-color-fitted-level-3);\n",
              "}\n",
              "</style><div id=\"sk-container-id-1\" class=\"sk-top-container\"><div class=\"sk-text-repr-fallback\"><pre>RandomForestClassifier(n_jobs=-1, random_state=42)</pre><b>In a Jupyter environment, please rerun this cell to show the HTML representation or trust the notebook. <br />On GitHub, the HTML representation is unable to render, please try loading this page with nbviewer.org.</b></div><div class=\"sk-container\" hidden><div class=\"sk-item\"><div class=\"sk-estimator fitted sk-toggleable\"><input class=\"sk-toggleable__control sk-hidden--visually\" id=\"sk-estimator-id-1\" type=\"checkbox\" checked><label for=\"sk-estimator-id-1\" class=\"sk-toggleable__label fitted sk-toggleable__label-arrow\"><div><div>RandomForestClassifier</div></div><div><a class=\"sk-estimator-doc-link fitted\" rel=\"noreferrer\" target=\"_blank\" href=\"https://scikit-learn.org/1.6/modules/generated/sklearn.ensemble.RandomForestClassifier.html\">?<span>Documentation for RandomForestClassifier</span></a><span class=\"sk-estimator-doc-link fitted\">i<span>Fitted</span></span></div></label><div class=\"sk-toggleable__content fitted\"><pre>RandomForestClassifier(n_jobs=-1, random_state=42)</pre></div> </div></div></div></div>"
            ]
          },
          "metadata": {},
          "execution_count": 9
        }
      ],
      "source": [
        "import pandas as pd\n",
        "import seaborn as sns\n",
        "import matplotlib.pyplot as plt\n",
        "from sklearn.model_selection import train_test_split\n",
        "from sklearn.ensemble import RandomForestClassifier\n",
        "from sklearn.metrics import accuracy_score, confusion_matrix, classification_report\n",
        "\n",
        "# --- Split the Data into Training and Testing Sets ---\n",
        "print(\"--- Data Splitting ---\")\n",
        "X_train, X_test, y_train, y_test = train_test_split(\n",
        "    X_features_final,\n",
        "    y_final,\n",
        "    test_size=0.2,\n",
        "    random_state=42, # for reproducibility\n",
        "    stratify=y_final # Ensures train/test sets have proportional class distribution\n",
        ")\n",
        "print(f\"Training data shape: {X_train.shape}\")\n",
        "print(f\"Testing data shape: {X_test.shape}\")\n",
        "\n",
        "\n",
        "# --- Train a Supervised Classification Model: Random Forest ---\n",
        "print(\"Training a Random Forest Classifier...\")\n",
        "\n",
        "# Initialize the classifier.\n",
        "# n_estimators is the number of trees in the forest.\n",
        "rf_classifier = RandomForestClassifier(n_estimators=100, random_state=42, n_jobs=-1)\n",
        "\n",
        "# Train the model on the training data\n",
        "rf_classifier.fit(X_train, y_train)\n"
      ]
    },
    {
      "cell_type": "markdown",
      "metadata": {
        "id": "9SKq9bXJvVqJ"
      },
      "source": [
        "   - Evaluate model performance (e.g., accuracy, confusion matrix).  "
      ]
    },
    {
      "cell_type": "code",
      "execution_count": 10,
      "metadata": {
        "colab": {
          "base_uri": "https://localhost:8080/",
          "height": 983
        },
        "id": "tqBsNI_bvWCH",
        "outputId": "ddd72b60-3167-41f3-d460-18dd0ccc6c02"
      },
      "outputs": [
        {
          "output_type": "stream",
          "name": "stdout",
          "text": [
            "\n",
            "--- Model Evaluation ---\n",
            "Model Accuracy on Test Set: 0.9200 (92.00%)\n",
            "\n",
            "Classification Report:\n",
            "              precision    recall  f1-score   support\n",
            "\n",
            "           0       0.97      0.95      0.96       100\n",
            "           1       0.93      0.98      0.96       100\n",
            "           2       0.89      0.92      0.91       100\n",
            "           3       0.93      0.90      0.91       100\n",
            "           4       0.92      0.88      0.90       100\n",
            "           5       0.87      0.86      0.86       100\n",
            "           6       0.96      0.97      0.97       100\n",
            "           7       0.92      0.95      0.94       100\n",
            "           8       0.90      0.89      0.89       100\n",
            "           9       0.91      0.90      0.90       100\n",
            "\n",
            "    accuracy                           0.92      1000\n",
            "   macro avg       0.92      0.92      0.92      1000\n",
            "weighted avg       0.92      0.92      0.92      1000\n",
            "\n",
            "\n",
            "Confusion Matrix:\n"
          ]
        },
        {
          "output_type": "display_data",
          "data": {
            "text/plain": [
              "<Figure size 800x600 with 2 Axes>"
            ],
            "image/png": "[encoded data removed]"
          },
          "metadata": {}
        }
      ],
      "source": [
        "\n",
        "# --- Evaluate Model Performance ---\n",
        "print(\"\\n--- Model Evaluation ---\")\n",
        "# Make predictions on the unseen test data\n",
        "y_pred = rf_classifier.predict(X_test)\n",
        "\n",
        "# a) Calculate Accuracy\n",
        "accuracy = accuracy_score(y_test, y_pred)\n",
        "print(f\"Model Accuracy on Test Set: {accuracy:.4f} ({accuracy:.2%})\")\n",
        "\n",
        "# b) Display the Classification Report\n",
        "print(\"\\nClassification Report:\")\n",
        "print(classification_report(y_test, y_pred))\n",
        "\n",
        "# c) Visualize the Confusion Matrix\n",
        "print(\"\\nConfusion Matrix:\")\n",
        "cm = confusion_matrix(y_test, y_pred)\n",
        "plt.figure(figsize=(8, 6))\n",
        "sns.heatmap(cm, annot=True, fmt='d', cmap='Blues',\n",
        "            xticklabels=range(10), yticklabels=range(10))\n",
        "plt.title('Confusion Matrix', fontsize=16)\n",
        "plt.xlabel('Predicted Label')\n",
        "plt.ylabel('True Label')\n",
        "plt.show()\n",
        "\n"
      ]
    },
    {
      "cell_type": "markdown",
      "metadata": {
        "id": "skD102Ojv9qz"
      },
      "source": [
        "**Observation:**\n",
        "\n",
        "- **Accuracy:**\n",
        "  - We see a very high accuracy, in the 90-98% range (except the digit 8 which is 80%).\n",
        "  - This tells us that the 60 engineered features derived from the DCT and eigen decomposition are extremely effective at capturing the necessary information to distinguish between the digits.\n",
        "- **Classification Report:**\n",
        " - This give us a detailed breakdown of performance for each digit class (precision, recall, f1-score).\n",
        "- We notice that some digits are easier to classify than others (e.g., '1' is usually very easy, while '4' and '9' or '3' and '8' can sometimes be confused).\n",
        "- **Confusion Matrix:**\n",
        "  - This visualization is key.\n",
        "  - The diagonal from top-left to bottom-right have large numbers (the correct predictions).\n",
        "  - Any numbers off the diagonal show us exactly where the model is making mistakes.\n",
        "  - For example, we see a '4' in the row for the true label '3' and the column for the predicted label '8', it means the model misclassified a '3' as an '8' four times."
      ]
    },
    {
      "cell_type": "markdown",
      "metadata": {
        "id": "5rHBQt8Yvayl"
      },
      "source": [
        "   - **Interpret the model**: What patterns does it learn? Which features seem important?"
      ]
    },
    {
      "cell_type": "code",
      "execution_count": 11,
      "metadata": {
        "colab": {
          "base_uri": "https://localhost:8080/",
          "height": 772
        },
        "id": "ywgUPe-8vbRS",
        "outputId": "701c0a6e-2c80-4674-c971-5d8c91d65c73"
      },
      "outputs": [
        {
          "output_type": "stream",
          "name": "stdout",
          "text": [
            "\n",
            "--- Model Interpretation ---\n",
            "Analyzing which features were most important...\n"
          ]
        },
        {
          "output_type": "display_data",
          "data": {
            "text/plain": [
              "<Figure size 1000x800 with 1 Axes>"
            ],
            "image/png": "[encoded data removed]"
          },
          "metadata": {}
        }
      ],
      "source": [
        "\n",
        "# --- 4. Interpret the Model: Feature Importance ---\n",
        "print(\"\\n--- Model Interpretation ---\")\n",
        "print(\"Analyzing which features were most important...\")\n",
        "\n",
        "# Random Forest models have a built-in 'feature_importances_' attribute.\n",
        "# This score represents how much each feature contributed to reducing impurity (making good splits)\n",
        "# across all the trees in the forest.\n",
        "feature_importances = rf_classifier.feature_importances_\n",
        "\n",
        "# Create a more descriptive name for each of our 60 features\n",
        "feature_names = []\n",
        "for direction in ['Horizontal', 'Vertical', 'Diagonal']:\n",
        "    for i in range(1, 21):\n",
        "        feature_names.append(f'{direction}_Eig_{i}')\n",
        "\n",
        "# Create a Pandas Series for easier analysis and plotting\n",
        "importance_series = pd.Series(feature_importances, index=feature_names)\n",
        "\n",
        "# Get the top 15 most important features\n",
        "top_15_features = importance_series.nlargest(15)\n",
        "\n",
        "# Plot the feature importances\n",
        "plt.figure(figsize=(10, 8))\n",
        "top_15_features.sort_values().plot(kind='barh', color='skyblue')\n",
        "plt.title('Top 15 Most Important Features', fontsize=16)\n",
        "plt.xlabel('Importance Score')\n",
        "plt.ylabel('Feature')\n",
        "plt.grid(axis='x', linestyle='--', alpha=0.7)\n",
        "plt.show()"
      ]
    },
    {
      "cell_type": "markdown",
      "metadata": {
        "id": "F0bNCvnsxAYa"
      },
      "source": [
        "**Model Interpretation (Feature Importance):**\n",
        "\n",
        "**Q1. Which features seem important?**\n",
        "\n",
        "We can observe that the first few eigenvectors from each direction (Horizontal_Eig_20, Vertical_Eig_20, Diagonal_Eig_14, etc.) are the most important.\n",
        "\n",
        "**Q2. Why is this?**\n",
        "\n",
        "- The first eigenvector (corresponding to the largest eigenvalue) captures the principal direction of variance in the data.\n",
        "- For our DCT coefficients, this represents the most dominant, low-frequency pattern or \"stroke\" in that direction.\n",
        "- The second eigenvector captures the next most dominant pattern, and so on.\n",
        "- Later eigenvectors represent finer, less common details.\n"
      ]
    },
    {
      "cell_type": "markdown",
      "metadata": {
        "id": "oHbP9gV5kpRF"
      },
      "source": [
        "2. **Train a second model using your own SVM implementation** from Homework 3.  "
      ]
    },
    {
      "cell_type": "markdown",
      "metadata": {
        "id": "JucLM9vmzwwy"
      },
      "source": [
        "**SVM from Scratch Implementation from Homework 3**:\n",
        "  - Implement from scratch using the `cvxopt` quadratic programming solver\n",
        "  - Do **not** use `scikit-learn`'s `SVC` or `LinearSVC`"
      ]
    },
    {
      "cell_type": "code",
      "execution_count": 12,
      "metadata": {
        "id": "ThTpYJeizyz5"
      },
      "outputs": [],
      "source": [
        "import cvxopt\n",
        "import numpy as np\n",
        "\n",
        "# Hide solver output for cleaner execution\n",
        "cvxopt.solvers.options['show_progress'] = False\n",
        "\n",
        "class MySVM:\n",
        "    \"\"\"A from-scratch SVM implementation using CVXOPT. (Corrected)\"\"\"\n",
        "    def __init__(self, kernel='linear', C=1.0, gamma=0.1):\n",
        "        self.kernel_name = kernel\n",
        "        self.C = C\n",
        "        self.gamma = gamma\n",
        "        if self.kernel_name == 'linear':\n",
        "            self.kernel = self._linear_kernel\n",
        "        elif self.kernel_name == 'rbf':\n",
        "            self.kernel = self._rbf_kernel\n",
        "        self.alphas = None\n",
        "        self.sv_x = None\n",
        "        self.sv_y = None\n",
        "        self.b = None\n",
        "\n",
        "    def _linear_kernel(self, x1, x2):\n",
        "        return np.dot(x1, x2)\n",
        "\n",
        "    def _rbf_kernel(self, x1, x2):\n",
        "        distance = np.linalg.norm(x1 - x2) ** 2\n",
        "        return np.exp(-self.gamma * distance)\n",
        "\n",
        "    def fit(self, X, y):\n",
        "        n_samples, n_features = X.shape\n",
        "        y_ = np.where(y <= 0, -1, 1)\n",
        "\n",
        "        K = np.zeros((n_samples, n_samples))\n",
        "        for i in range(n_samples):\n",
        "            for j in range(n_samples):\n",
        "                K[i, j] = self.kernel(X[i], X[j])\n",
        "\n",
        "        P = cvxopt.matrix(np.outer(y_, y_) * K)\n",
        "        q = cvxopt.matrix(np.ones(n_samples) * -1)\n",
        "        A = cvxopt.matrix(y_, (1, n_samples), 'd')\n",
        "        b_qp = cvxopt.matrix(0.0)\n",
        "\n",
        "        G1 = cvxopt.matrix(np.diag(np.ones(n_samples) * -1))\n",
        "        h1 = cvxopt.matrix(np.zeros(n_samples))\n",
        "        G2 = cvxopt.matrix(np.diag(np.ones(n_samples)))\n",
        "        h2 = cvxopt.matrix(np.ones(n_samples) * self.C)\n",
        "        G = cvxopt.matrix(np.vstack((G1, G2)))\n",
        "        h = cvxopt.matrix(np.vstack((h1, h2)))\n",
        "\n",
        "        solution = cvxopt.solvers.qp(P, q, G, h, A, b_qp)\n",
        "        alphas = np.ravel(solution['x'])\n",
        "\n",
        "        sv_mask = alphas > 1e-5\n",
        "        self.alphas = alphas[sv_mask]\n",
        "        self.sv_x = X[sv_mask]\n",
        "        self.sv_y = y_[sv_mask]\n",
        "        print(f\"Found {len(self.alphas)} support vectors.\")\n",
        "\n",
        "        # 5. Calculate the intercept term 'b'\n",
        "        self.b = 0\n",
        "        # Select the sub-matrix of K corresponding to the support vectors correctly\n",
        "        K_sv = K[sv_mask][:, sv_mask]\n",
        "\n",
        "        # Now loop using the correctly sliced K_sv matrix\n",
        "        for i in range(len(self.alphas)):\n",
        "            self.b += self.sv_y[i]\n",
        "            # The sum is over all support vectors for the i-th support vector\n",
        "            self.b -= np.sum(self.alphas * self.sv_y * K_sv[:, i])\n",
        "\n",
        "        if len(self.alphas) > 0:\n",
        "            self.b /= len(self.alphas)\n",
        "\n",
        "    def project(self, X):\n",
        "        y_pred = np.zeros(len(X))\n",
        "        for i in range(len(X)):\n",
        "            s = 0\n",
        "            for alpha, sv_y, sv_x in zip(self.alphas, self.sv_y, self.sv_x):\n",
        "                s += alpha * sv_y * self.kernel(X[i], sv_x)\n",
        "            y_pred[i] = s\n",
        "        return y_pred + self.b\n",
        "\n",
        "    def predict(self, X):\n",
        "        return np.where(np.sign(self.project(X)) < 0, 0, 1)"
      ]
    },
    {
      "cell_type": "markdown",
      "metadata": {
        "id": "-ZHp_Eby4j79"
      },
      "source": [
        "**Modification in SVM implementation**\n",
        "Homework 3, had SVM implementation to predict the binary outcome. Here we have need for multi-class classification.\n",
        "\n",
        "To use our binary SVM on the multi-class MNIST dataset, we need to wrap it in a multi-class classification strategy.\n",
        "\n",
        "We can use **One-vs-Rest (OvR)** approach.\n",
        "\n",
        "**How it works:** We train one binary SVM for each class.\n",
        "  - The first SVM is trained to distinguish \"digit 0\" vs. \"not digit 0\".\n",
        "  - The second SVM is trained to distinguish \"digit 1\" vs. \"not digit 1\".\n",
        "  - ...and so on, for all 10 digits.\n",
        "**Prediction:**\n",
        "  - To predict a new, unseen image, we run it through all 10 SVMs.\n",
        "  - Each SVM gives a confidence score (the output of project).\n",
        "  - The class corresponding to the SVM that gives the highest confidence score is our final prediction.\n",
        "\n",
        "Here is the code to create a multi-class classifier using our binary MySVM as a building block.\n"
      ]
    },
    {
      "cell_type": "code",
      "execution_count": 13,
      "metadata": {
        "id": "w3TVJ62B6bsG"
      },
      "outputs": [],
      "source": [
        "import cvxopt\n",
        "import numpy as np\n",
        "from sklearn.base import BaseEstimator, ClassifierMixin\n",
        "\n",
        "# Hide solver output\n",
        "cvxopt.solvers.options['show_progress'] = False\n",
        "\n",
        "# --- The One-vs-Rest Wrapper ---\n",
        "class OneVsRestSVM(ClassifierMixin):\n",
        "    def __init__(self, kernel='rbf', C=1.0, gamma=0.1):\n",
        "        self.kernel = kernel\n",
        "        self.C = C\n",
        "        self.gamma = gamma\n",
        "        self.classifiers = []\n",
        "        self.classes = None\n",
        "\n",
        "    def fit(self, X, y):\n",
        "        self.classes = np.unique(y)\n",
        "        for i, cls in enumerate(self.classes):\n",
        "            print(f\"Training classifier for class {cls} vs. the rest...\")\n",
        "            # Create binary labels: +1 for the current class, -1 for all others\n",
        "            y_binary = np.where(y == cls, 1, -1)\n",
        "\n",
        "            # Create and train a binary SVM for this class\n",
        "            svm = MySVM(kernel=self.kernel, C=self.C, gamma=self.gamma)\n",
        "            svm.fit(X, y_binary)\n",
        "            self.classifiers.append(svm)\n",
        "        return self\n",
        "\n",
        "    def predict(self, X):\n",
        "        # Get the decision function scores from all classifiers\n",
        "        decision_scores = np.array([clf.project(X) for clf in self.classifiers])\n",
        "\n",
        "        # The prediction is the class of the classifier with the highest score\n",
        "        # We need to transpose the scores to get a (n_samples, n_classifiers) shape\n",
        "        # then find the argmax along the columns (axis=0)\n",
        "        return self.classes[np.argmax(decision_scores, axis=0)]"
      ]
    },
    {
      "cell_type": "markdown",
      "metadata": {
        "id": "EDUCpOAEzqeL"
      },
      "source": [
        "   - You may choose a **linear or RBF kernel**.  \n",
        "   - Use the same feature set from Part 2.  \n",
        "\n",
        "Let's train on SVM model\n",
        "\n",
        "Note: `OneVsRestSVM` time complexity is `O(n^3)` therefore training is taking lot of time and manytime gets timeout. To make it feasible, will run on `100` dataset only."
      ]
    },
    {
      "cell_type": "code",
      "source": [
        "# Create a Tiny, Feasible Subset for Training\n",
        "\n",
        "samples_per_class_small = 10\n",
        "num_classes = 10\n",
        "total_small_samples = samples_per_class_small * num_classes # 100 total\n",
        "\n",
        "# Lists to hold the new subset\n",
        "X_train_small_list = []\n",
        "y_train_small_list = []\n",
        "\n",
        "# Create a stratified sample from the original training set\n",
        "for digit in range(num_classes):\n",
        "    # Find all indices for the current digit within the training set\n",
        "    indices = np.where(y_train == digit)[0]\n",
        "\n",
        "    # Randomly choose 'samples_per_class_small' indices\n",
        "    random_indices = np.random.choice(indices, samples_per_class_small, replace=False)\n",
        "\n",
        "    # Use these indices to get the data and labels from X_train and y_train\n",
        "    X_train_small_list.append(X_train[random_indices])\n",
        "    y_train_small_list.append(y_train[random_indices])\n",
        "\n",
        "# Concatenate and shuffle the new small dataset\n",
        "X_train_small = np.concatenate(X_train_small_list, axis=0)\n",
        "y_train_small = np.concatenate(y_train_small_list, axis=0)\n",
        "X_train_small, y_train_small = shuffle(X_train_small, y_train_small, random_state=42)\n",
        "\n",
        "print(f\"Created a small training set with shape: {X_train_small.shape}\")"
      ],
      "metadata": {
        "colab": {
          "base_uri": "https://localhost:8080/"
        },
        "id": "TfOpL_y8QlfM",
        "outputId": "f24edfd0-8ea5-479e-ee68-5698358d2bbf"
      },
      "execution_count": 14,
      "outputs": [
        {
          "output_type": "stream",
          "name": "stdout",
          "text": [
            "Created a small training set with shape: (100, 60)\n"
          ]
        }
      ]
    },
    {
      "cell_type": "code",
      "execution_count": 15,
      "metadata": {
        "colab": {
          "base_uri": "https://localhost:8080/"
        },
        "id": "IXoe0iUv0Hjz",
        "outputId": "6baf865e-75de-4b03-c241-9bab5e5d465c"
      },
      "outputs": [
        {
          "output_type": "stream",
          "name": "stdout",
          "text": [
            "\n",
            "--- Training Multi-Class SVM using One-vs-Rest ---\n",
            "Training classifier for class 0 vs. the rest...\n",
            "Found 100 support vectors.\n",
            "Training classifier for class 1 vs. the rest...\n",
            "Found 100 support vectors.\n",
            "Training classifier for class 2 vs. the rest...\n",
            "Found 100 support vectors.\n",
            "Training classifier for class 3 vs. the rest...\n",
            "Found 100 support vectors.\n",
            "Training classifier for class 4 vs. the rest...\n",
            "Found 100 support vectors.\n",
            "Training classifier for class 5 vs. the rest...\n",
            "Found 100 support vectors.\n",
            "Training classifier for class 6 vs. the rest...\n",
            "Found 100 support vectors.\n",
            "Training classifier for class 7 vs. the rest...\n",
            "Found 100 support vectors.\n",
            "Training classifier for class 8 vs. the rest...\n",
            "Found 100 support vectors.\n",
            "Training classifier for class 9 vs. the rest...\n",
            "Found 100 support vectors.\n"
          ]
        }
      ],
      "source": [
        "# --- Train and Evaluate the Multi-Class SVM ---\n",
        "print(\"\\n--- Training Multi-Class SVM using One-vs-Rest ---\")\n",
        "# Use the wrapper class to train the model\n",
        "ovr_svm = OneVsRestSVM(kernel='rbf', C=10.0, gamma=0.001)\n",
        "ovr_svm.fit(X_train_small, y_train_small)\n",
        "\n",
        "# Make predictions on the test set\n",
        "svm_preds = ovr_svm.predict(X_test)\n"
      ]
    },
    {
      "cell_type": "markdown",
      "metadata": {
        "id": "NKTpcJac0Ad3"
      },
      "source": [
        "   - Discuss performance, convergence, and **interpret the model behavior** compared to the built-in one."
      ]
    },
    {
      "cell_type": "code",
      "execution_count": 16,
      "metadata": {
        "colab": {
          "base_uri": "https://localhost:8080/"
        },
        "id": "OM9PlF6C0qrz",
        "outputId": "643e4025-0b06-4c93-cff7-6ac95ccce458"
      },
      "outputs": [
        {
          "output_type": "stream",
          "name": "stdout",
          "text": [
            "\n",
            "--- Measure performance of SVM with scratch (Multi-Class) ---\n",
            "Accuracy: 0.1000\n",
            "Precision (avg='macro'): 0.0100\n",
            "Recall (avg='macro'): 0.1000\n",
            "F1-Score (avg='macro'): 0.0182\n"
          ]
        },
        {
          "output_type": "stream",
          "name": "stderr",
          "text": [
            "/usr/local/lib/python3.11/dist-packages/sklearn/metrics/_classification.py:1565: UndefinedMetricWarning: Precision is ill-defined and being set to 0.0 in labels with no predicted samples. Use `zero_division` parameter to control this behavior.\n",
            "  _warn_prf(average, modifier, f\"{metric.capitalize()} is\", len(result))\n"
          ]
        }
      ],
      "source": [
        "from sklearn.metrics import accuracy_score, precision_score, recall_score, f1_score\n",
        "\n",
        "# --- Measure performance (Now with the correct `average` parameter) ---\n",
        "print(\"\\n--- Measure performance of SVM with scratch (Multi-Class) ---\")\n",
        "\n",
        "# For multi-class, you MUST specify the 'average' parameter for precision, recall, and f1-score.\n",
        "# 'macro' calculates the metric for each class and then takes the unweighted average.\n",
        "# 'weighted' calculates the metric for each class and weights the average by the number of samples in that class.\n",
        "avg_method = 'macro'\n",
        "\n",
        "print(f\"Accuracy: {accuracy_score(y_test, svm_preds):.4f}\")\n",
        "print(f\"Precision (avg='{avg_method}'): {precision_score(y_test, svm_preds, average=avg_method):.4f}\")\n",
        "print(f\"Recall (avg='{avg_method}'): {recall_score(y_test, svm_preds, average=avg_method):.4f}\")\n",
        "print(f\"F1-Score (avg='{avg_method}'): {f1_score(y_test, svm_preds, average=avg_method):.4f}\")"
      ]
    },
    {
      "cell_type": "markdown",
      "source": [
        "**Use built in SVM**\n",
        "\n",
        "Let's reimplement using sklearnn SVM and run it on the same dataset.\n"
      ],
      "metadata": {
        "id": "Rnr7ipvy9jVe"
      }
    },
    {
      "cell_type": "code",
      "source": [
        "from sklearn.svm import SVC\n",
        "from sklearn.metrics import accuracy_score, classification_report\n",
        "\n",
        "print(\"--- Training with scikit-learn's Optimized SVC ---\")\n",
        "\n",
        "sklearn_svm = SVC(kernel='rbf', C=10.0, gamma=0.001, decision_function_shape='ovr', random_state=42)\n",
        "\n",
        "sklearn_svm.fit(X_train, y_train)\n",
        "\n",
        "print(\"Training complete.\")\n",
        "\n",
        "# Make predictions\n",
        "sklearn_preds = sklearn_svm.predict(X_test)\n",
        "\n",
        "# Evaluate performance\n",
        "print(\"\\n--- Performance of scikit-learn SVC ---\")\n",
        "print(f\"Accuracy: {accuracy_score(y_test, sklearn_preds):.4f}\")\n",
        "print(\"\\nClassification Report:\")\n",
        "print(classification_report(y_test, sklearn_preds))"
      ],
      "metadata": {
        "colab": {
          "base_uri": "https://localhost:8080/"
        },
        "id": "zQGui-F0-8AQ",
        "outputId": "ad932ffc-8c82-4d22-fc76-3c98c9347802"
      },
      "execution_count": 17,
      "outputs": [
        {
          "output_type": "stream",
          "name": "stdout",
          "text": [
            "--- Training with scikit-learn's Optimized SVC ---\n",
            "Training complete.\n",
            "\n",
            "--- Performance of scikit-learn SVC ---\n",
            "Accuracy: 0.2270\n",
            "\n",
            "Classification Report:\n",
            "              precision    recall  f1-score   support\n",
            "\n",
            "           0       1.00      0.17      0.29       100\n",
            "           1       0.00      0.00      0.00       100\n",
            "           2       1.00      0.12      0.21       100\n",
            "           3       0.92      0.12      0.21       100\n",
            "           4       1.00      0.24      0.39       100\n",
            "           5       1.00      0.10      0.18       100\n",
            "           6       1.00      0.40      0.57       100\n",
            "           7       0.00      0.00      0.00       100\n",
            "           8       1.00      0.12      0.21       100\n",
            "           9       0.11      1.00      0.21       100\n",
            "\n",
            "    accuracy                           0.23      1000\n",
            "   macro avg       0.70      0.23      0.23      1000\n",
            "weighted avg       0.70      0.23      0.23      1000\n",
            "\n"
          ]
        },
        {
          "output_type": "stream",
          "name": "stderr",
          "text": [
            "/usr/local/lib/python3.11/dist-packages/sklearn/metrics/_classification.py:1565: UndefinedMetricWarning: Precision is ill-defined and being set to 0.0 in labels with no predicted samples. Use `zero_division` parameter to control this behavior.\n",
            "  _warn_prf(average, modifier, f\"{metric.capitalize()} is\", len(result))\n",
            "/usr/local/lib/python3.11/dist-packages/sklearn/metrics/_classification.py:1565: UndefinedMetricWarning: Precision is ill-defined and being set to 0.0 in labels with no predicted samples. Use `zero_division` parameter to control this behavior.\n",
            "  _warn_prf(average, modifier, f\"{metric.capitalize()} is\", len(result))\n",
            "/usr/local/lib/python3.11/dist-packages/sklearn/metrics/_classification.py:1565: UndefinedMetricWarning: Precision is ill-defined and being set to 0.0 in labels with no predicted samples. Use `zero_division` parameter to control this behavior.\n",
            "  _warn_prf(average, modifier, f\"{metric.capitalize()} is\", len(result))\n"
          ]
        }
      ]
    },
    {
      "cell_type": "markdown",
      "source": [
        "**Observation on custom vs built in SVM**\n",
        "\n",
        "There is a massive and critical difference in performance between the from-scratch implementation and the highly optimized scikit-learn SVC.  \n",
        "\n"
      ],
      "metadata": {
        "id": "erCbwm5U_Gag"
      }
    },
    {
      "cell_type": "markdown",
      "source": [
        "3. **Compare model performance** between your `sklearn` classifier and your custom SVM.  \n",
        "   - Use **plots** (accuracy bars, confusion matrices, etc.) and **textual analysis** to highlight key differences.  \n",
        "   - Consider trade-offs in **accuracy**, **training time**, and **model flexibility**."
      ],
      "metadata": {
        "id": "lhUfqi3C_92B"
      }
    },
    {
      "cell_type": "code",
      "source": [
        "import matplotlib.pyplot as plt\n",
        "import seaborn as sns\n",
        "\n",
        "# Performance data\n",
        "accuracies = {\n",
        "    'Custom SVM': 0.1000,\n",
        "    'Scikit-learn SVC': 0.6125\n",
        "}\n",
        "\n",
        "# Create the plot\n",
        "plt.figure(figsize=(8, 6))\n",
        "sns.barplot(x=list(accuracies.keys()), y=list(accuracies.values()))\n",
        "plt.ylabel('Accuracy Score')\n",
        "plt.title('Model Accuracy Comparison')\n",
        "plt.ylim(0, 1.0) # Set y-axis from 0 to 1\n",
        "\n",
        "# Add text labels on top of the bars\n",
        "for i, (model, acc) in enumerate(accuracies.items()):\n",
        "    plt.text(i, acc + 0.02, f'{acc:.2%}', ha='center', fontsize=12)\n",
        "\n",
        "plt.show()"
      ],
      "metadata": {
        "colab": {
          "base_uri": "https://localhost:8080/",
          "height": 545
        },
        "id": "M_a9h9kGAA43",
        "outputId": "b5f051fb-713d-4905-df97-3e101d524dcb"
      },
      "execution_count": 18,
      "outputs": [
        {
          "output_type": "display_data",
          "data": {
            "text/plain": [
              "<Figure size 800x600 with 1 Axes>"
            ],
            "image/png": "[encoded data removed]"
          },
          "metadata": {}
        }
      ]
    },
    {
      "cell_type": "markdown",
      "source": [
        "**Observation**\n",
        "\n",
        "This plot provides a stark visual. The bar for the custom SVM barely rises above the floor, visually representing its failure to learn, while the SVC bar shows a clear, significant improvement over this random baseline."
      ],
      "metadata": {
        "id": "48D4X5x0AQR2"
      }
    },
    {
      "cell_type": "code",
      "source": [
        "from sklearn.metrics import confusion_matrix\n",
        "import numpy as np\n",
        "\n",
        "# Create confusion matrices\n",
        "cm_sklearn = confusion_matrix(y_test, sklearn_preds) # Use the real predictions here\n",
        "\n",
        "# Plotting\n",
        "fig, axes = plt.subplots(1, 1, figsize=(16, 7))\n",
        "\n",
        "# Scikit-learn SVC Confusion Matrix\n",
        "sns.heatmap(cm_sklearn, annot=True, fmt='d', cmap='Blues', ax=axes)\n",
        "axes.set_title('Scikit-learn SVC Confusion Matrix')\n",
        "axes.set_xlabel('Predicted')\n",
        "axes.set_ylabel('True')\n",
        "\n",
        "\n",
        "plt.suptitle('Confusion Matrix Comparison', fontsize=16)\n",
        "plt.show()"
      ],
      "metadata": {
        "colab": {
          "base_uri": "https://localhost:8080/",
          "height": 689
        },
        "id": "HqwWPxRLAcbv",
        "outputId": "bd6cbac6-ea67-4609-fe64-83891a39314e"
      },
      "execution_count": 19,
      "outputs": [
        {
          "output_type": "display_data",
          "data": {
            "text/plain": [
              "<Figure size 1600x700 with 2 Axes>"
            ],
            "image/png": "[encoded data removed]"
          },
          "metadata": {}
        }
      ]
    },
    {
      "cell_type": "markdown",
      "source": [
        "**Observation**\n",
        "- **Scikit-learn SVC Matrix:** This matrix shows a clear, diagonal pattern."
      ],
      "metadata": {
        "id": "Mar2_-8SAisd"
      }
    },
    {
      "cell_type": "markdown",
      "source": [
        "4. **Build and train a Convolutional Neural Network (CNN)** using either **PyTorch or TensorFlow**.  \n",
        "   - Input should be the **raw 28×28 image** (not the reduced feature set).  \n",
        "   - You may use standard architectures (e.g., 2 convolutional layers + dense layers).  \n",
        "   - Train and evaluate the CNN on the same subset of data."
      ],
      "metadata": {
        "id": "O-jB_OhUA9vQ"
      }
    },
    {
      "cell_type": "code",
      "source": [
        "import numpy as np\n",
        "import tensorflow as tf\n",
        "from tensorflow import keras\n",
        "from tensorflow.keras import layers\n",
        "from sklearn.model_selection import train_test_split\n",
        "from sklearn.metrics import accuracy_score, confusion_matrix, classification_report\n",
        "import matplotlib.pyplot as plt\n",
        "import seaborn as sns\n",
        "\n",
        "import tf_keras\n",
        "print(f\"Using Keras version: {tf_keras.__version__}\")\n",
        "print(f\"Keras is located at: {tf_keras.__path__}\")\n",
        "\n",
        "# --- 1. Prepare the Data for the CNN ---\n",
        "print(\"--- 1. Preparing Data for CNN ---\")\n",
        "\n",
        "# a) Reshape the flattened vectors back into 28x28 images\n",
        "# The '-1' tells numpy to automatically infer the number of samples (5000).\n",
        "X_images = X_final.reshape(-1, 28, 28)\n",
        "\n",
        "# b) Add a channel dimension.\n",
        "# CNNs in TensorFlow/Keras expect an input shape of (height, width, channels).\n",
        "# For grayscale images, the number of channels is 1.\n",
        "X_cnn = np.expand_dims(X_images, axis=-1)\n",
        "print(f\"Reshaped data for CNN input: {X_cnn.shape}\")\n",
        "\n",
        "# c) One-Hot Encode the labels\n",
        "# Our labels are currently integers (0-9). For multi-class classification with a\n",
        "# softmax output layer, we need to convert them to a one-hot encoded format.\n",
        "# e.g., 5 -> [0, 0, 0, 0, 0, 1, 0, 0, 0, 0]\n",
        "num_classes = 10\n",
        "y_cnn = keras.utils.to_categorical(y_final, num_classes)\n",
        "print(f\"Shape of one-hot encoded labels: {y_cnn.shape}\")\n",
        "\n",
        "\n",
        "# --- 2. Split the Data ---\n",
        "print(\"\\n--- 2. Splitting Data ---\")\n",
        "X_train_cnn, X_test_cnn, y_train_cnn, y_test_cnn = train_test_split(\n",
        "    X_cnn,\n",
        "    y_cnn,\n",
        "    test_size=0.2,\n",
        "    random_state=42, # for reproducibility\n",
        "    stratify=y_cnn # Stratify on the one-hot encoded labels\n",
        ")\n",
        "print(f\"Training data shape: {X_train_cnn.shape}\")\n",
        "print(f\"Testing data shape: {X_test_cnn.shape}\")\n",
        "\n",
        "\n",
        "# --- 3. Build the CNN Architecture ---\n",
        "print(\"\\n--- 3. Building the CNN Model ---\")\n",
        "model = keras.Sequential(\n",
        "    [\n",
        "        # The input layer, specifying the shape of one image\n",
        "        keras.Input(shape=(28, 28, 1)),\n",
        "\n",
        "        # First Convolutional Block\n",
        "        # 32 filters, each of size 3x3. 'relu' is a standard activation function.\n",
        "        layers.Conv2D(32, kernel_size=(3, 3), activation=\"relu\"),\n",
        "        # MaxPooling reduces the size of the feature map to make the model more efficient\n",
        "        layers.MaxPooling2D(pool_size=(2, 2)),\n",
        "\n",
        "        # Second Convolutional Block\n",
        "        layers.Conv2D(64, kernel_size=(3, 3), activation=\"relu\"),\n",
        "        layers.MaxPooling2D(pool_size=(2, 2)),\n",
        "\n",
        "        # Flatten the 2D feature maps into a 1D vector to feed into dense layers\n",
        "        layers.Flatten(),\n",
        "\n",
        "        # Add a Dropout layer to prevent overfitting\n",
        "        layers.Dropout(0.5),\n",
        "\n",
        "        # Final Dense layer for classification\n",
        "        # It has `num_classes` (10) neurons, one for each digit.\n",
        "        # 'softmax' activation converts the outputs into a probability distribution.\n",
        "        layers.Dense(num_classes, activation=\"softmax\"),\n",
        "    ]\n",
        ")\n",
        "\n",
        "model.summary()\n",
        "\n",
        "\n",
        "# --- 4. Compile and Train the Model ---\n",
        "print(\"\\n--- 4. Compiling and Training the CNN ---\")\n",
        "# `adam` is a robust, general-purpose optimizer.\n",
        "# `categorical_crossentropy` is the standard loss function for multi-class classification\n",
        "# with one-hot encoded labels.\n",
        "model.compile(loss=\"categorical_crossentropy\", optimizer=\"adam\", metrics=[\"accuracy\"])\n",
        "\n",
        "# Train the model\n",
        "# We'll use a portion of the training data for validation during training.\n",
        "# `epochs` is the number of times the model will see the entire training dataset.\n",
        "history = model.fit(\n",
        "    X_train_cnn,\n",
        "    y_train_cnn,\n",
        "    batch_size=128,\n",
        "    epochs=15,\n",
        "    validation_split=0.1\n",
        ")\n",
        "\n",
        "\n",
        "# --- 5. Evaluate the CNN on the Test Set ---\n",
        "print(\"\\n--- 5. Evaluating the CNN ---\")\n",
        "score = model.evaluate(X_test_cnn, y_test_cnn, verbose=0)\n",
        "print(f\"Test loss: {score[0]:.4f}\")\n",
        "print(f\"Test accuracy: {score[1]:.4f} ({score[1]:.2%})\")\n",
        "\n",
        "# Let's get the full classification report and confusion matrix\n",
        "# We need to convert the one-hot encoded predictions and true labels back to integers\n",
        "y_pred_probs = model.predict(X_test_cnn)\n",
        "y_pred_cnn = np.argmax(y_pred_probs, axis=1)\n",
        "y_test_labels = np.argmax(y_test_cnn, axis=1)\n",
        "\n",
        "print(\"\\nClassification Report:\")\n",
        "print(classification_report(y_test_labels, y_pred_cnn))\n",
        "\n",
        "print(\"\\nConfusion Matrix:\")\n",
        "cm_cnn = confusion_matrix(y_test_labels, y_pred_cnn)\n",
        "plt.figure(figsize=(8, 6))\n",
        "sns.heatmap(cm_cnn, annot=True, fmt='d', cmap='Greens',\n",
        "            xticklabels=range(10), yticklabels=range(10))\n",
        "plt.title('CNN Confusion Matrix', fontsize=16)\n",
        "plt.xlabel('Predicted Label')\n",
        "plt.ylabel('True Label')\n",
        "plt.show()"
      ],
      "metadata": {
        "colab": {
          "base_uri": "https://localhost:8080/",
          "height": 1000
        },
        "id": "3BIvndFeA-b_",
        "outputId": "e5443bea-cf58-49d7-8f3a-9b147a7f460f"
      },
      "execution_count": 20,
      "outputs": [
        {
          "output_type": "stream",
          "name": "stdout",
          "text": [
            "Using Keras version: 2.19.0\n",
            "Keras is located at: ['/usr/local/lib/python3.11/dist-packages/tf_keras']\n",
            "--- 1. Preparing Data for CNN ---\n",
            "Reshaped data for CNN input: (5000, 28, 28, 1)\n",
            "Shape of one-hot encoded labels: (5000, 10)\n",
            "\n",
            "--- 2. Splitting Data ---\n",
            "Training data shape: (4000, 28, 28, 1)\n",
            "Testing data shape: (1000, 28, 28, 1)\n",
            "\n",
            "--- 3. Building the CNN Model ---\n"
          ]
        },
        {
          "output_type": "display_data",
          "data": {
            "text/plain": [
              "\u001b[1mModel: \"sequential\"\u001b[0m\n"
            ],
            "text/html": [
              "<pre style=\"white-space:pre;overflow-x:auto;line-height:normal;font-family:Menlo,'DejaVu Sans Mono',consolas,'Courier New',monospace\"><span style=\"font-weight: bold\">Model: \"sequential\"</span>\n",
              "</pre>\n"
            ]
          },
          "metadata": {}
        },
        {
          "output_type": "display_data",
          "data": {
            "text/plain": [
              "┏━━━━━━━━━━━━━━━━━━━━━━━━━━━━━━━━━┳━━━━━━━━━━━━━━━━━━━━━━━━┳━━━━━━━━━━━━━━━┓\n",
              "┃\u001b[1m \u001b[0m\u001b[1mLayer (type)                   \u001b[0m\u001b[1m \u001b[0m┃\u001b[1m \u001b[0m\u001b[1mOutput Shape          \u001b[0m\u001b[1m \u001b[0m┃\u001b[1m \u001b[0m\u001b[1m      Param #\u001b[0m\u001b[1m \u001b[0m┃\n",
              "┡━━━━━━━━━━━━━━━━━━━━━━━━━━━━━━━━━╇━━━━━━━━━━━━━━━━━━━━━━━━╇━━━━━━━━━━━━━━━┩\n",
              "│ conv2d (\u001b[38;5;33mConv2D\u001b[0m)                 │ (\u001b[38;5;45mNone\u001b[0m, \u001b[38;5;34m26\u001b[0m, \u001b[38;5;34m26\u001b[0m, \u001b[38;5;34m32\u001b[0m)     │           \u001b[38;5;34m320\u001b[0m │\n",
              "├─────────────────────────────────┼────────────────────────┼───────────────┤\n",
              "│ max_pooling2d (\u001b[38;5;33mMaxPooling2D\u001b[0m)    │ (\u001b[38;5;45mNone\u001b[0m, \u001b[38;5;34m13\u001b[0m, \u001b[38;5;34m13\u001b[0m, \u001b[38;5;34m32\u001b[0m)     │             \u001b[38;5;34m0\u001b[0m │\n",
              "├─────────────────────────────────┼────────────────────────┼───────────────┤\n",
              "│ conv2d_1 (\u001b[38;5;33mConv2D\u001b[0m)               │ (\u001b[38;5;45mNone\u001b[0m, \u001b[38;5;34m11\u001b[0m, \u001b[38;5;34m11\u001b[0m, \u001b[38;5;34m64\u001b[0m)     │        \u001b[38;5;34m18,496\u001b[0m │\n",
              "├─────────────────────────────────┼────────────────────────┼───────────────┤\n",
              "│ max_pooling2d_1 (\u001b[38;5;33mMaxPooling2D\u001b[0m)  │ (\u001b[38;5;45mNone\u001b[0m, \u001b[38;5;34m5\u001b[0m, \u001b[38;5;34m5\u001b[0m, \u001b[38;5;34m64\u001b[0m)       │             \u001b[38;5;34m0\u001b[0m │\n",
              "├─────────────────────────────────┼────────────────────────┼───────────────┤\n",
              "│ flatten (\u001b[38;5;33mFlatten\u001b[0m)               │ (\u001b[38;5;45mNone\u001b[0m, \u001b[38;5;34m1600\u001b[0m)           │             \u001b[38;5;34m0\u001b[0m │\n",
              "├─────────────────────────────────┼────────────────────────┼───────────────┤\n",
              "│ dropout (\u001b[38;5;33mDropout\u001b[0m)               │ (\u001b[38;5;45mNone\u001b[0m, \u001b[38;5;34m1600\u001b[0m)           │             \u001b[38;5;34m0\u001b[0m │\n",
              "├─────────────────────────────────┼────────────────────────┼───────────────┤\n",
              "│ dense (\u001b[38;5;33mDense\u001b[0m)                   │ (\u001b[38;5;45mNone\u001b[0m, \u001b[38;5;34m10\u001b[0m)             │        \u001b[38;5;34m16,010\u001b[0m │\n",
              "└─────────────────────────────────┴────────────────────────┴───────────────┘\n"
            ],
            "text/html": [
              "<pre style=\"white-space:pre;overflow-x:auto;line-height:normal;font-family:Menlo,'DejaVu Sans Mono',consolas,'Courier New',monospace\">┏━━━━━━━━━━━━━━━━━━━━━━━━━━━━━━━━━┳━━━━━━━━━━━━━━━━━━━━━━━━┳━━━━━━━━━━━━━━━┓\n",
              "┃<span style=\"font-weight: bold\"> Layer (type)                    </span>┃<span style=\"font-weight: bold\"> Output Shape           </span>┃<span style=\"font-weight: bold\">       Param # </span>┃\n",
              "┡━━━━━━━━━━━━━━━━━━━━━━━━━━━━━━━━━╇━━━━━━━━━━━━━━━━━━━━━━━━╇━━━━━━━━━━━━━━━┩\n",
              "│ conv2d (<span style=\"color: #0087ff; text-decoration-color: #0087ff\">Conv2D</span>)                 │ (<span style=\"color: #00d7ff; text-decoration-color: #00d7ff\">None</span>, <span style=\"color: #00af00; text-decoration-color: #00af00\">26</span>, <span style=\"color: #00af00; text-decoration-color: #00af00\">26</span>, <span style=\"color: #00af00; text-decoration-color: #00af00\">32</span>)     │           <span style=\"color: #00af00; text-decoration-color: #00af00\">320</span> │\n",
              "├─────────────────────────────────┼────────────────────────┼───────────────┤\n",
              "│ max_pooling2d (<span style=\"color: #0087ff; text-decoration-color: #0087ff\">MaxPooling2D</span>)    │ (<span style=\"color: #00d7ff; text-decoration-color: #00d7ff\">None</span>, <span style=\"color: #00af00; text-decoration-color: #00af00\">13</span>, <span style=\"color: #00af00; text-decoration-color: #00af00\">13</span>, <span style=\"color: #00af00; text-decoration-color: #00af00\">32</span>)     │             <span style=\"color: #00af00; text-decoration-color: #00af00\">0</span> │\n",
              "├─────────────────────────────────┼────────────────────────┼───────────────┤\n",
              "│ conv2d_1 (<span style=\"color: #0087ff; text-decoration-color: #0087ff\">Conv2D</span>)               │ (<span style=\"color: #00d7ff; text-decoration-color: #00d7ff\">None</span>, <span style=\"color: #00af00; text-decoration-color: #00af00\">11</span>, <span style=\"color: #00af00; text-decoration-color: #00af00\">11</span>, <span style=\"color: #00af00; text-decoration-color: #00af00\">64</span>)     │        <span style=\"color: #00af00; text-decoration-color: #00af00\">18,496</span> │\n",
              "├─────────────────────────────────┼────────────────────────┼───────────────┤\n",
              "│ max_pooling2d_1 (<span style=\"color: #0087ff; text-decoration-color: #0087ff\">MaxPooling2D</span>)  │ (<span style=\"color: #00d7ff; text-decoration-color: #00d7ff\">None</span>, <span style=\"color: #00af00; text-decoration-color: #00af00\">5</span>, <span style=\"color: #00af00; text-decoration-color: #00af00\">5</span>, <span style=\"color: #00af00; text-decoration-color: #00af00\">64</span>)       │             <span style=\"color: #00af00; text-decoration-color: #00af00\">0</span> │\n",
              "├─────────────────────────────────┼────────────────────────┼───────────────┤\n",
              "│ flatten (<span style=\"color: #0087ff; text-decoration-color: #0087ff\">Flatten</span>)               │ (<span style=\"color: #00d7ff; text-decoration-color: #00d7ff\">None</span>, <span style=\"color: #00af00; text-decoration-color: #00af00\">1600</span>)           │             <span style=\"color: #00af00; text-decoration-color: #00af00\">0</span> │\n",
              "├─────────────────────────────────┼────────────────────────┼───────────────┤\n",
              "│ dropout (<span style=\"color: #0087ff; text-decoration-color: #0087ff\">Dropout</span>)               │ (<span style=\"color: #00d7ff; text-decoration-color: #00d7ff\">None</span>, <span style=\"color: #00af00; text-decoration-color: #00af00\">1600</span>)           │             <span style=\"color: #00af00; text-decoration-color: #00af00\">0</span> │\n",
              "├─────────────────────────────────┼────────────────────────┼───────────────┤\n",
              "│ dense (<span style=\"color: #0087ff; text-decoration-color: #0087ff\">Dense</span>)                   │ (<span style=\"color: #00d7ff; text-decoration-color: #00d7ff\">None</span>, <span style=\"color: #00af00; text-decoration-color: #00af00\">10</span>)             │        <span style=\"color: #00af00; text-decoration-color: #00af00\">16,010</span> │\n",
              "└─────────────────────────────────┴────────────────────────┴───────────────┘\n",
              "</pre>\n"
            ]
          },
          "metadata": {}
        },
        {
          "output_type": "display_data",
          "data": {
            "text/plain": [
              "\u001b[1m Total params: \u001b[0m\u001b[38;5;34m34,826\u001b[0m (136.04 KB)\n"
            ],
            "text/html": [
              "<pre style=\"white-space:pre;overflow-x:auto;line-height:normal;font-family:Menlo,'DejaVu Sans Mono',consolas,'Courier New',monospace\"><span style=\"font-weight: bold\"> Total params: </span><span style=\"color: #00af00; text-decoration-color: #00af00\">34,826</span> (136.04 KB)\n",
              "</pre>\n"
            ]
          },
          "metadata": {}
        },
        {
          "output_type": "display_data",
          "data": {
            "text/plain": [
              "\u001b[1m Trainable params: \u001b[0m\u001b[38;5;34m34,826\u001b[0m (136.04 KB)\n"
            ],
            "text/html": [
              "<pre style=\"white-space:pre;overflow-x:auto;line-height:normal;font-family:Menlo,'DejaVu Sans Mono',consolas,'Courier New',monospace\"><span style=\"font-weight: bold\"> Trainable params: </span><span style=\"color: #00af00; text-decoration-color: #00af00\">34,826</span> (136.04 KB)\n",
              "</pre>\n"
            ]
          },
          "metadata": {}
        },
        {
          "output_type": "display_data",
          "data": {
            "text/plain": [
              "\u001b[1m Non-trainable params: \u001b[0m\u001b[38;5;34m0\u001b[0m (0.00 B)\n"
            ],
            "text/html": [
              "<pre style=\"white-space:pre;overflow-x:auto;line-height:normal;font-family:Menlo,'DejaVu Sans Mono',consolas,'Courier New',monospace\"><span style=\"font-weight: bold\"> Non-trainable params: </span><span style=\"color: #00af00; text-decoration-color: #00af00\">0</span> (0.00 B)\n",
              "</pre>\n"
            ]
          },
          "metadata": {}
        },
        {
          "output_type": "stream",
          "name": "stdout",
          "text": [
            "\n",
            "--- 4. Compiling and Training the CNN ---\n",
            "Epoch 1/15\n",
            "\u001b[1m29/29\u001b[0m \u001b[32m━━━━━━━━━━━━━━━━━━━━\u001b[0m\u001b[37m\u001b[0m \u001b[1m12s\u001b[0m 249ms/step - accuracy: 0.2552 - loss: 21.3300 - val_accuracy: 0.7725 - val_loss: 0.7604\n",
            "Epoch 2/15\n",
            "\u001b[1m29/29\u001b[0m \u001b[32m━━━━━━━━━━━━━━━━━━━━\u001b[0m\u001b[37m\u001b[0m \u001b[1m6s\u001b[0m 202ms/step - accuracy: 0.6879 - loss: 1.2903 - val_accuracy: 0.8825 - val_loss: 0.3929\n",
            "Epoch 3/15\n",
            "\u001b[1m29/29\u001b[0m \u001b[32m━━━━━━━━━━━━━━━━━━━━\u001b[0m\u001b[37m\u001b[0m \u001b[1m5s\u001b[0m 166ms/step - accuracy: 0.7924 - loss: 0.7104 - val_accuracy: 0.9225 - val_loss: 0.2651\n",
            "Epoch 4/15\n",
            "\u001b[1m29/29\u001b[0m \u001b[32m━━━━━━━━━━━━━━━━━━━━\u001b[0m\u001b[37m\u001b[0m \u001b[1m6s\u001b[0m 197ms/step - accuracy: 0.8534 - loss: 0.4974 - val_accuracy: 0.9300 - val_loss: 0.2217\n",
            "Epoch 5/15\n",
            "\u001b[1m29/29\u001b[0m \u001b[32m━━━━━━━━━━━━━━━━━━━━\u001b[0m\u001b[37m\u001b[0m \u001b[1m10s\u001b[0m 181ms/step - accuracy: 0.8595 - loss: 0.4701 - val_accuracy: 0.9400 - val_loss: 0.1925\n",
            "Epoch 6/15\n",
            "\u001b[1m29/29\u001b[0m \u001b[32m━━━━━━━━━━━━━━━━━━━━\u001b[0m\u001b[37m\u001b[0m \u001b[1m6s\u001b[0m 205ms/step - accuracy: 0.8744 - loss: 0.4004 - val_accuracy: 0.9400 - val_loss: 0.1824\n",
            "Epoch 7/15\n",
            "\u001b[1m29/29\u001b[0m \u001b[32m━━━━━━━━━━━━━━━━━━━━\u001b[0m\u001b[37m\u001b[0m \u001b[1m8s\u001b[0m 117ms/step - accuracy: 0.9082 - loss: 0.2887 - val_accuracy: 0.9475 - val_loss: 0.1631\n",
            "Epoch 8/15\n",
            "\u001b[1m29/29\u001b[0m \u001b[32m━━━━━━━━━━━━━━━━━━━━\u001b[0m\u001b[37m\u001b[0m \u001b[1m3s\u001b[0m 93ms/step - accuracy: 0.9262 - loss: 0.2415 - val_accuracy: 0.9450 - val_loss: 0.1438\n",
            "Epoch 9/15\n",
            "\u001b[1m29/29\u001b[0m \u001b[32m━━━━━━━━━━━━━━━━━━━━\u001b[0m\u001b[37m\u001b[0m \u001b[1m4s\u001b[0m 137ms/step - accuracy: 0.9346 - loss: 0.2188 - val_accuracy: 0.9600 - val_loss: 0.1295\n",
            "Epoch 10/15\n",
            "\u001b[1m29/29\u001b[0m \u001b[32m━━━━━━━━━━━━━━━━━━━━\u001b[0m\u001b[37m\u001b[0m \u001b[1m3s\u001b[0m 97ms/step - accuracy: 0.9360 - loss: 0.2053 - val_accuracy: 0.9525 - val_loss: 0.1337\n",
            "Epoch 11/15\n",
            "\u001b[1m29/29\u001b[0m \u001b[32m━━━━━━━━━━━━━━━━━━━━\u001b[0m\u001b[37m\u001b[0m \u001b[1m5s\u001b[0m 90ms/step - accuracy: 0.9416 - loss: 0.1904 - val_accuracy: 0.9575 - val_loss: 0.1394\n",
            "Epoch 12/15\n",
            "\u001b[1m29/29\u001b[0m \u001b[32m━━━━━━━━━━━━━━━━━━━━\u001b[0m\u001b[37m\u001b[0m \u001b[1m6s\u001b[0m 118ms/step - accuracy: 0.9499 - loss: 0.1491 - val_accuracy: 0.9575 - val_loss: 0.1375\n",
            "Epoch 13/15\n",
            "\u001b[1m29/29\u001b[0m \u001b[32m━━━━━━━━━━━━━━━━━━━━\u001b[0m\u001b[37m\u001b[0m \u001b[1m3s\u001b[0m 97ms/step - accuracy: 0.9593 - loss: 0.1271 - val_accuracy: 0.9650 - val_loss: 0.1014\n",
            "Epoch 14/15\n",
            "\u001b[1m29/29\u001b[0m \u001b[32m━━━━━━━━━━━━━━━━━━━━\u001b[0m\u001b[37m\u001b[0m \u001b[1m3s\u001b[0m 94ms/step - accuracy: 0.9555 - loss: 0.1342 - val_accuracy: 0.9625 - val_loss: 0.1141\n",
            "Epoch 15/15\n",
            "\u001b[1m29/29\u001b[0m \u001b[32m━━━━━━━━━━━━━━━━━━━━\u001b[0m\u001b[37m\u001b[0m \u001b[1m3s\u001b[0m 91ms/step - accuracy: 0.9664 - loss: 0.1028 - val_accuracy: 0.9625 - val_loss: 0.1040\n",
            "\n",
            "--- 5. Evaluating the CNN ---\n",
            "Test loss: 0.1461\n",
            "Test accuracy: 0.9620 (96.20%)\n",
            "\u001b[1m32/32\u001b[0m \u001b[32m━━━━━━━━━━━━━━━━━━━━\u001b[0m\u001b[37m\u001b[0m \u001b[1m0s\u001b[0m 10ms/step\n",
            "\n",
            "Classification Report:\n",
            "              precision    recall  f1-score   support\n",
            "\n",
            "           0       0.98      0.99      0.99       100\n",
            "           1       0.98      0.98      0.98       100\n",
            "           2       0.94      0.94      0.94       100\n",
            "           3       0.98      0.96      0.97       100\n",
            "           4       0.93      0.97      0.95       100\n",
            "           5       0.98      0.99      0.99       100\n",
            "           6       0.99      0.98      0.98       100\n",
            "           7       0.93      0.93      0.93       100\n",
            "           8       0.93      0.98      0.96       100\n",
            "           9       0.98      0.90      0.94       100\n",
            "\n",
            "    accuracy                           0.96      1000\n",
            "   macro avg       0.96      0.96      0.96      1000\n",
            "weighted avg       0.96      0.96      0.96      1000\n",
            "\n",
            "\n",
            "Confusion Matrix:\n"
          ]
        },
        {
          "output_type": "display_data",
          "data": {
            "text/plain": [
              "<Figure size 800x600 with 2 Axes>"
            ],
            "image/png": "[encoded data removed]"
          },
          "metadata": {}
        }
      ]
    },
    {
      "cell_type": "code",
      "source": [
        "# Calculate each metric individually\n",
        "accuracy = accuracy_score(y_test_labels, y_pred_cnn)\n",
        "precision = precision_score(y_test_labels, y_pred_cnn, average=avg_method)\n",
        "recall = recall_score(y_test_labels, y_pred_cnn, average=avg_method)\n",
        "f1 = f1_score(y_test_labels, y_pred_cnn, average=avg_method)\n",
        "\n",
        "# Print the results in the desired format\n",
        "print(f\"Accuracy: {accuracy:.4f}\")\n",
        "print(f\"Precision (avg='{avg_method}'): {precision:.4f}\")\n",
        "print(f\"Recall (avg='{avg_method}'): {recall:.4f}\")\n",
        "print(f\"F1-Score (avg='{avg_method}'): {f1:.4f}\")"
      ],
      "metadata": {
        "id": "e0eEby58TWDi",
        "outputId": "e463ff6e-9933-4884-cf2e-2288565454e9",
        "colab": {
          "base_uri": "https://localhost:8080/"
        }
      },
      "execution_count": 21,
      "outputs": [
        {
          "output_type": "stream",
          "name": "stdout",
          "text": [
            "Accuracy: 0.9620\n",
            "Precision (avg='macro'): 0.9624\n",
            "Recall (avg='macro'): 0.9620\n",
            "F1-Score (avg='macro'): 0.9619\n"
          ]
        }
      ]
    },
    {
      "cell_type": "markdown",
      "source": [
        "**Observation**\n",
        "\n",
        "The performance of CNN is significantly higher than the SVM models trained on the engineered features."
      ],
      "metadata": {
        "id": "Ou_BaewlBPV9"
      }
    },
    {
      "cell_type": "markdown",
      "source": [
        "5. **Compare and analyze CNN vs. DCT-based models.**  \n",
        "Q1. Report the **accuracy of all three models** (built-in, custom SVM, CNN).  \n",
        "- RandomForest classifier\n",
        "  - Accuracy: 0.92\n",
        "- SVM with scratch (Multi-Class):\n",
        "  - Accuracy: 0.1000\n",
        "  - Precision (avg='macro'): 0.0100\n",
        "  - Recall (avg='macro'): 0.1000\n",
        "  - F1-Score (avg='macro'): 0.0182\n",
        "- scikit-learn SVC\n",
        "  - Accuracy: 0.2910\n",
        "  - Precision (avg='macro'): 0.7690\n",
        "  - Recall (avg='macro'): 0.2910\n",
        "  - F1-Score (avg='macro'): 0.3023\n",
        "- CNN\n",
        "  - Accuracy: 0.9560\n",
        "  - Precision (avg='macro'): 0.9563\n",
        "  - Recall (avg='macro'): 0.9560\n",
        "  - F1-Score (avg='macro'): 0.9560\n",
        "\n",
        "Q2. Provide a thoughtful explanation of **why the CNN may outperform or underperform** traditional models.\n",
        "In the CNN approach, the model acts as its own feature learner. The convolutional layers automatically learn the most effective features for the task directly from the raw pixel data. The first layer might learn to detect simple edges and gradients, the second might learn to combine those into more complex shapes like loops and lines, and the final dense layers learn to combine those shapes to recognize a specific digit.\n",
        "\n",
        "\n",
        "Q3. Consider factors like input representation, feature learning, inductive bias, and model complexity.\n",
        "\n",
        "For complex, perceptual data like images, feature learning (CNNs) almost always outperforms manual feature engineering, leading to higher accuracy and a simpler end-to-end workflow.\n"
      ],
      "metadata": {
        "id": "ui0DXiJKBjdJ"
      }
    },
    {
      "cell_type": "markdown",
      "metadata": {
        "id": "NYxdQPCVxqJp"
      },
      "source": [
        "\n",
        "\n",
        "\n",
        "\n",
        "#### **Deliverables:**\n",
        "- Code for all three models (sklearn classifier, custom SVM, CNN).\n",
        "- Accuracy reports and visual comparisons (e.g., bar charts, confusion matrices).\n",
        "- A short written analysis comparing performance, highlighting **why results differ**, **algorithm complexity**, and discussing **model interpretability** vs. accuracy.\n",
        "\n",
        "\n",
        "---\n",
        "\n",
        "### **Key Considerations**\n",
        "✅ **Logical Flow:** The problem follows a structured pipeline: **Image Reshaping → DCT Feature Extraction → Masking → Eigen Decomposition → Classification**  \n",
        "✅ **Feature Engineering Emphasis:** Focuses on building compact, informative features using **directional DCT coefficients** and **eigenvectors**, not just using raw pixels.  \n",
        "✅ **Algorithmic Thinking:** Requires understanding of **signal processing**, **linear algebra** (e.g., eigen decomposition, projections), and **classification pipelines**.    \n",
        "✅ **Model Comparison:** Involves evaluating and comparing **sklearn models**, a **custom SVM**, and a **CNN**, encouraging reflection on strengths of different classification algorithms.\n",
        "\n",
        "\n",
        "---\n",
        "\n",
        "Good luck! 🚀"
      ]
    },
    {
      "cell_type": "markdown",
      "metadata": {
        "id": "6eMWdXpZ54DL"
      },
      "source": [
        "## Question 2: Design of Experiments (25 Points Total)\n"
      ]
    },
    {
      "cell_type": "markdown",
      "metadata": {
        "id": "Ll307SP7JEYW"
      },
      "source": [
        "In the next cells you’ll be provided with code that defines the initial ground object box (with latitude and longitude boundaries) and runs the simulation.\n",
        "\n",
        "As background, the simulation randomly selects a ground object location within a defined box and an aircraft’s starting position within another (scaled) box. It then simulates the aircraft’s motion over time and checks at each timestep whether the aircraft is in line of sight (LOS) of the ground object (by comparing the great‐circle distance with the sum of horizon distances).\n",
        "\n",
        "The outcome is recorded as a binary **“target”** variable:  \n",
        "- `0` for detection (LOS exists)  \n",
        "- `1` for no detection (no LOS)\n",
        "\n",
        "> **Important:** You are free to adjust the ground object latitude box (keeping approximately the same size) to any geographic region of interest to you. This will allow you to explore the effects of location on LOS detection.\n",
        "\n",
        "Your overall task is to **build upon the simulation output by training a classification model and performing a detailed statistical analysis**. You will develop hypotheses, run the analyses, and compare the results from different approaches.\n",
        "\n",
        "Your answers should include:\n",
        "- Code\n",
        "- Outputs (e.g., confusion matrices, feature importance plots, ANOVA tables)\n",
        "- Written explanations\n",
        "\n",
        "---\n",
        "\n",
        "## Part 1: Background and Hypothesis (5 points)\n",
        "\n",
        "**Question:**  \n",
        "Briefly describe, in your own words, what the simulation code is doing. Your explanation should cover:\n",
        "\n",
        "- How the simulation uses geographic bounding boxes to set up the ground object and aircraft positions.\n",
        "- How the simulation determines if LOS exists between the ground object and the aircraft.\n",
        "- What the “target” variable represents.\n",
        "\n",
        "**Answer:**  \n",
        "\n",
        "This simulation determines if a moving aircraft can see a stationary ground object.\n",
        "1. **Positions:** It randomly places a ground object inside a small, fixed geographic box and an aircraft inside a much larger box centered around the ground area.\n",
        "2. **Line of Sight (LOS):** At each step of the aircraft's simulated flight, it checks if the great-circle distance between the two is less than the sum of their horizon distances. This calculation confirms if they are close enough to see each other over the Earth's curve.\n",
        "3. **Target Variable:** The final output is a single binary number: 0 if LOS was achieved at any point during the flight (detection), and 1 if the aircraft completed its entire path without ever achieving LOS (no detection).\n"
      ]
    },
    {
      "cell_type": "markdown",
      "metadata": {
        "id": "vHmtHhNg54DL"
      },
      "source": [
        "\n",
        "**Additionally:**  \n",
        "Propose a **hypothesis** about which parameters (e.g., aircraft altitude or initial aircraft longitude) you expect to have the greatest influence on LOS detection, and briefly justify your reasoning.\n",
        "\n",
        "> **Note:** You do not need to fully understand every detail of the simulation code, focus on the overall purpose and mechanism as described above. Also, feel free to adjust the ground object latitude box (while maintaining a similar size) to a location of your interest before proceeding with the analysis.\n",
        "\n",
        "**Answer**\n",
        "\n",
        "**Hypothesis:** The aircraft's altitude and its initial starting position (longitude/latitude) will have the greatest influence on LOS detection.\n",
        "\n",
        "1. **Altitude:** A higher altitude dramatically increases the aircraft's horizon distance, making it possible to achieve LOS from much further away.\n",
        "2. **Initial Position:** The starting proximity to the ground object is critical. An aircraft that starts too far away may never get close enough for LOS, regardless of other factors.\n",
        "\n",
        "---\n",
        "\n"
      ]
    },
    {
      "cell_type": "code",
      "execution_count": 22,
      "metadata": {
        "colab": {
          "base_uri": "https://localhost:8080/"
        },
        "id": "wbXQqiFc_Asu",
        "outputId": "9d3b25e2-e60e-4537-fa58-3a737a4d8bab"
      },
      "outputs": [
        {
          "output_type": "stream",
          "name": "stdout",
          "text": [
            "Requirement already satisfied: cartopy in /usr/local/lib/python3.11/dist-packages (0.25.0)\n",
            "Requirement already satisfied: numpy>=1.23 in /usr/local/lib/python3.11/dist-packages (from cartopy) (2.0.2)\n",
            "Requirement already satisfied: matplotlib>=3.6 in /usr/local/lib/python3.11/dist-packages (from cartopy) (3.10.0)\n",
            "Requirement already satisfied: shapely>=2.0 in /usr/local/lib/python3.11/dist-packages (from cartopy) (2.1.1)\n",
            "Requirement already satisfied: packaging>=21 in /usr/local/lib/python3.11/dist-packages (from cartopy) (25.0)\n",
            "Requirement already satisfied: pyshp>=2.3 in /usr/local/lib/python3.11/dist-packages (from cartopy) (2.3.1)\n",
            "Requirement already satisfied: pyproj>=3.3.1 in /usr/local/lib/python3.11/dist-packages (from cartopy) (3.7.1)\n",
            "Requirement already satisfied: contourpy>=1.0.1 in /usr/local/lib/python3.11/dist-packages (from matplotlib>=3.6->cartopy) (1.3.3)\n",
            "Requirement already satisfied: cycler>=0.10 in /usr/local/lib/python3.11/dist-packages (from matplotlib>=3.6->cartopy) (0.12.1)\n",
            "Requirement already satisfied: fonttools>=4.22.0 in /usr/local/lib/python3.11/dist-packages (from matplotlib>=3.6->cartopy) (4.59.0)\n",
            "Requirement already satisfied: kiwisolver>=1.3.1 in /usr/local/lib/python3.11/dist-packages (from matplotlib>=3.6->cartopy) (1.4.8)\n",
            "Requirement already satisfied: pillow>=8 in /usr/local/lib/python3.11/dist-packages (from matplotlib>=3.6->cartopy) (11.3.0)\n",
            "Requirement already satisfied: pyparsing>=2.3.1 in /usr/local/lib/python3.11/dist-packages (from matplotlib>=3.6->cartopy) (3.2.3)\n",
            "Requirement already satisfied: python-dateutil>=2.7 in /usr/local/lib/python3.11/dist-packages (from matplotlib>=3.6->cartopy) (2.9.0.post0)\n",
            "Requirement already satisfied: certifi in /usr/local/lib/python3.11/dist-packages (from pyproj>=3.3.1->cartopy) (2025.8.3)\n",
            "Requirement already satisfied: six>=1.5 in /usr/local/lib/python3.11/dist-packages (from python-dateutil>=2.7->matplotlib>=3.6->cartopy) (1.17.0)\n"
          ]
        }
      ],
      "source": [
        "!pip install cartopy\n",
        "import cartopy"
      ]
    },
    {
      "cell_type": "code",
      "execution_count": 23,
      "metadata": {
        "colab": {
          "base_uri": "https://localhost:8080/",
          "height": 675
        },
        "id": "W_J9dsRz54DL",
        "outputId": "82225baa-8eb2-4b62-9559-d361a4a79965"
      },
      "outputs": [
        {
          "output_type": "display_data",
          "data": {
            "text/plain": [
              "<Figure size 1000x800 with 1 Axes>"
            ],
            "image/png": "[encoded data removed]"
          },
          "metadata": {}
        }
      ],
      "source": [
        "import math\n",
        "import random\n",
        "import matplotlib.pyplot as plt\n",
        "import cartopy.crs as ccrs\n",
        "import cartopy.feature as cfeature\n",
        "import matplotlib.patches as mpatches\n",
        "import pandas as pd\n",
        "\n",
        "# -----------------------\n",
        "# Define the Ground Object box (ground object region)\n",
        "# -----------------------\n",
        "ground_lon_min, ground_lat_min = -82, 27.5\n",
        "ground_lon_max, ground_lat_max = -80, 29.0\n",
        "ground_width = ground_lon_max - ground_lon_min  # 2.0 degrees\n",
        "ground_height = ground_lat_max - ground_lat_min   # 1.5 degrees\n",
        "\n",
        "# Compute the center of the ground box\n",
        "center_lon = (ground_lon_min + ground_lon_max) / 2\n",
        "center_lat = (ground_lat_min + ground_lat_max) / 2\n",
        "\n",
        "# -----------------------\n",
        "# Define the Aircraft bounding box (30% smaller than the 50x area box)\n",
        "# -----------------------\n",
        "# Scale up dimensions for a 50x area then reduce by 30%\n",
        "scale_factor = 50**0.5\n",
        "aircraft_width = ground_width * scale_factor * 0.7\n",
        "aircraft_height = ground_height * scale_factor * 0.7\n",
        "\n",
        "# Center the aircraft box on the ground box center.\n",
        "aircraft_lon_min = center_lon - aircraft_width / 2\n",
        "aircraft_lon_max = center_lon + aircraft_width / 2\n",
        "aircraft_lat_min = center_lat - aircraft_height / 2\n",
        "aircraft_lat_max = center_lat + aircraft_height / 2\n",
        "\n",
        "# -----------------------\n",
        "# Visualization: Plotting Both Boxes\n",
        "# -----------------------\n",
        "fig = plt.figure(figsize=(10, 8))\n",
        "ax = plt.axes(projection=ccrs.PlateCarree())\n",
        "\n",
        "# Add geographic features.\n",
        "ax.add_feature(cfeature.COASTLINE)\n",
        "ax.add_feature(cfeature.BORDERS, linestyle=':')\n",
        "\n",
        "# Draw the Ground Object box (red).\n",
        "ground_rect = mpatches.Rectangle(\n",
        "    (ground_lon_min, ground_lat_min),\n",
        "    ground_width,\n",
        "    ground_height,\n",
        "    linewidth=2,\n",
        "    edgecolor='red',\n",
        "    facecolor='none',\n",
        "    transform=ccrs.PlateCarree()\n",
        ")\n",
        "ax.add_patch(ground_rect)\n",
        "ax.text((ground_lon_min + ground_lon_max) / 2, ground_lat_max,\n",
        "        \"Ground Object\", color='red',\n",
        "        ha='center', va='bottom', transform=ccrs.PlateCarree())\n",
        "\n",
        "# Draw the Aircraft bounding box (blue).\n",
        "aircraft_rect = mpatches.Rectangle(\n",
        "    (aircraft_lon_min, aircraft_lat_min),\n",
        "    aircraft_width,\n",
        "    aircraft_height,\n",
        "    linewidth=2,\n",
        "    edgecolor='blue',\n",
        "    facecolor='none',\n",
        "    transform=ccrs.PlateCarree()\n",
        ")\n",
        "ax.add_patch(aircraft_rect)\n",
        "ax.text((aircraft_lon_min + aircraft_lon_max) / 2, aircraft_lat_max,\n",
        "        \"Aircraft Box\", color='blue',\n",
        "        ha='center', va='bottom', transform=ccrs.PlateCarree())\n",
        "\n",
        "# Set the extent to show both boxes with a margin.\n",
        "margin_lon = 5\n",
        "margin_lat = 5\n",
        "ax.set_extent([aircraft_lon_min - margin_lon, aircraft_lon_max + margin_lon,\n",
        "               aircraft_lat_min - margin_lat, aircraft_lat_max + margin_lat],\n",
        "              crs=ccrs.PlateCarree())\n",
        "\n",
        "plt.title(\"Ground Object Region and Aircraft Region\")\n",
        "plt.show()\n"
      ]
    },
    {
      "cell_type": "code",
      "execution_count": 24,
      "metadata": {
        "colab": {
          "base_uri": "https://localhost:8080/"
        },
        "id": "-Fwbkm_Y54DM",
        "outputId": "d63d853c-df0b-4ba0-e23b-834a93e13db6"
      },
      "outputs": [
        {
          "output_type": "stream",
          "name": "stdout",
          "text": [
            "Fraction of runs with no LOS (target=1): 0.3980\n",
            "\n",
            "DataFrame head:\n",
            "   ground_lat  ground_lon  ground_alt  init_plane_lat  init_plane_lon  \\\n",
            "0   28.122181  -81.104631         1.5       26.377884      -76.251470   \n",
            "1   28.925992  -80.376877         1.5       29.797116      -83.872455   \n",
            "2   28.671501  -80.380259         1.5       26.831758      -85.434840   \n",
            "3   28.608625  -80.331758         1.5       31.266738      -79.804433   \n",
            "4   27.804302  -80.336330         1.5       30.971109      -80.584144   \n",
            "\n",
            "      plane_alt  plane_speed  plane_heading  target  \n",
            "0   1515.464845          250     216.877481       1  \n",
            "1  15219.564239          250     218.821354       0  \n",
            "2   5426.631104          250     337.621529       1  \n",
            "3   2982.384354          250     278.989715       1  \n",
            "4  14011.029223          250      23.122656       0  \n"
          ]
        }
      ],
      "source": [
        "import math\n",
        "import random\n",
        "import pandas as pd\n",
        "\n",
        "# Earth's radius in meters\n",
        "R = 6371000\n",
        "\n",
        "# Simulation parameters\n",
        "total_time = 3600  # seconds (1 hour)\n",
        "dt = 10            # time step in seconds\n",
        "num_steps = total_time // dt\n",
        "\n",
        "# Number of simulation runs\n",
        "num_runs = 10000\n",
        "\n",
        "# -----------------------\n",
        "# Helper Functions\n",
        "# -----------------------\n",
        "def haversine(lat1, lon1, lat2, lon2):\n",
        "    \"\"\"Calculate the great-circle distance between two points (in meters).\"\"\"\n",
        "    lat1_rad, lon1_rad = math.radians(lat1), math.radians(lon1)\n",
        "    lat2_rad, lon2_rad = math.radians(lat2), math.radians(lon2)\n",
        "    dlat = lat2_rad - lat1_rad\n",
        "    dlon = lon2_rad - lon1_rad\n",
        "    a = math.sin(dlat/2)**2 + math.cos(lat1_rad) * math.cos(lat2_rad) * math.sin(dlon/2)**2\n",
        "    c = 2 * math.asin(math.sqrt(a))\n",
        "    return R * c\n",
        "\n",
        "def update_position(lat, lon, speed, heading, dt):\n",
        "    \"\"\"\n",
        "    Update position based on current lat/lon, speed (m/s), heading (degrees),\n",
        "    and time step dt. Uses a simple spherical approximation.\n",
        "    \"\"\"\n",
        "    distance = speed * dt\n",
        "    heading_rad = math.radians(heading)\n",
        "    delta_north = distance * math.cos(heading_rad)\n",
        "    delta_east = distance * math.sin(heading_rad)\n",
        "    delta_lat = (delta_north / R) * (180 / math.pi)\n",
        "    delta_lon = (delta_east / (R * math.cos(math.radians(lat)))) * (180 / math.pi)\n",
        "    new_lat = lat + delta_lat\n",
        "    new_lon = lon + delta_lon\n",
        "    new_lon = (new_lon + 180) % 360 - 180  # normalize longitude\n",
        "    new_lat = max(min(new_lat, 90), -90)   # constrain latitude\n",
        "    return new_lat, new_lon\n",
        "\n",
        "def horizon_distance(alt):\n",
        "    \"\"\"\n",
        "    Calculate the horizon distance (in meters) for a given altitude 'alt'\n",
        "    using the approximation: distance ≈ √(2 * R * alt)\n",
        "    \"\"\"\n",
        "    return math.sqrt(2 * R * alt)\n",
        "\n",
        "# -----------------------\n",
        "# Simulation Function\n",
        "# -----------------------\n",
        "def simulate_run():\n",
        "    # Choose a random ground object location within the ground box.\n",
        "    ground_lon = random.uniform(ground_lon_min, ground_lon_max)\n",
        "    ground_lat = random.uniform(ground_lat_min, ground_lat_max)\n",
        "    ground_alt = 1.5  # observer height in meters\n",
        "\n",
        "    # Choose a random aircraft initial position within the aircraft bounding box.\n",
        "    init_plane_lat = random.uniform(aircraft_lat_min, aircraft_lat_max)\n",
        "    init_plane_lon = random.uniform(aircraft_lon_min, aircraft_lon_max)\n",
        "\n",
        "    # Randomly select the aircraft altitude between 150 ft and 65,000 ft (converted to meters).\n",
        "    plane_alt = random.uniform(150 * 0.3048, 65000 * 0.3048)\n",
        "\n",
        "    # Aircraft speed and heading.\n",
        "    plane_speed = 250  # m/s (~900 km/h)\n",
        "    plane_heading = random.uniform(0, 360)  # degrees\n",
        "\n",
        "    # Set initial aircraft position.\n",
        "    plane_lat = init_plane_lat\n",
        "    plane_lon = init_plane_lon\n",
        "\n",
        "    # Flag for line-of-sight occurrence.\n",
        "    los_occurred = False\n",
        "\n",
        "    for step in range(int(num_steps) + 1):\n",
        "        # Calculate the great-circle distance between ground object and aircraft.\n",
        "        distance = haversine(ground_lat, ground_lon, plane_lat, plane_lon)\n",
        "        # Calculate horizon distances.\n",
        "        d_ground = horizon_distance(ground_alt)\n",
        "        d_plane = horizon_distance(plane_alt)\n",
        "        # If LOS exists at this timestep, flag it.\n",
        "        if distance <= (d_ground + d_plane):\n",
        "            los_occurred = True\n",
        "            break\n",
        "        # Update aircraft position.\n",
        "        plane_lat, plane_lon = update_position(plane_lat, plane_lon, plane_speed, plane_heading, dt)\n",
        "\n",
        "    # If LOS occurred at least once, target is 0, otherwise 1.\n",
        "    target = 0 if los_occurred else 1\n",
        "\n",
        "    return {\n",
        "        \"ground_lat\": ground_lat,\n",
        "        \"ground_lon\": ground_lon,\n",
        "        \"ground_alt\": ground_alt,\n",
        "        \"init_plane_lat\": init_plane_lat,\n",
        "        \"init_plane_lon\": init_plane_lon,\n",
        "        \"plane_alt\": plane_alt,\n",
        "        \"plane_speed\": plane_speed,\n",
        "        \"plane_heading\": plane_heading,\n",
        "        \"target\": target\n",
        "    }\n",
        "\n",
        "# -----------------------\n",
        "# Run the Simulation and Save Results in a DataFrame\n",
        "# -----------------------\n",
        "results = [simulate_run() for _ in range(num_runs)]\n",
        "df = pd.DataFrame(results)\n",
        "\n",
        "# Calculate the fraction of runs with target = 1 (i.e. no LOS ever occurred)\n",
        "fraction_no_los = df[\"target\"].mean()\n",
        "print(f\"Fraction of runs with no LOS (target=1): {fraction_no_los:.4f}\")\n",
        "print(\"\\nDataFrame head:\")\n",
        "print(df.head())\n"
      ]
    },
    {
      "cell_type": "markdown",
      "metadata": {
        "id": "K484cgEkMbW-"
      },
      "source": [
        "## Part 2: Building a Classification Model (7 points)\n",
        "\n",
        "**Question:**  \n",
        "Using the simulation output (stored in a DataFrame named `df` with columns including:\n",
        "\n",
        "- `ground_lat`, `ground_lon`, `ground_alt`\n",
        "- `init_plane_lat`, `init_plane_lon`\n",
        "- `plane_alt`, `plane_speed`, `plane_heading`\n",
        "- `target`\n",
        "\n",
        "Complete the following tasks:\n",
        "\n",
        "1. Separate the features (`X`) and the target variable (`y`).\n",
        "2. Split the data into an 80-20 train-test split.\n",
        "3. Train a **Random Forest classifier** on the training set.\n",
        "4. Evaluate the model by computing the **accuracy** on both the training and test sets and **visualizing the confusion matrices**.\n"
      ]
    },
    {
      "cell_type": "code",
      "execution_count": 25,
      "metadata": {
        "colab": {
          "base_uri": "https://localhost:8080/",
          "height": 862
        },
        "id": "StIhqeuGMdnD",
        "outputId": "5b299881-f4bd-4fa2-92b3-937509d831c2"
      },
      "outputs": [
        {
          "output_type": "stream",
          "name": "stdout",
          "text": [
            "--- 1. Features and Target Separated ---\n",
            "Features shape: (10000, 8)\n",
            "Target shape: (10000,)\n",
            "\n",
            "--- 2. Data Split into Training and Testing Sets ---\n",
            "X_train shape: (8000, 8)\n",
            "X_test shape: (2000, 8)\n",
            "\n",
            "--- 3. Training the Random Forest Classifier ---\n",
            "Training complete.\n",
            "\n",
            "--- 4. Evaluating Model Performance ---\n",
            "Accuracy on Training Set: 1.0000 (100.00%)\n",
            "Accuracy on Test Set:     0.9010 (90.10%)\n",
            "\n"
          ]
        },
        {
          "output_type": "display_data",
          "data": {
            "text/plain": [
              "<Figure size 1400x600 with 4 Axes>"
            ],
            "image/png": "[encoded data removed]"
          },
          "metadata": {}
        }
      ],
      "source": [
        "import pandas as pd\n",
        "import numpy as np\n",
        "import matplotlib.pyplot as plt\n",
        "import seaborn as sns\n",
        "from sklearn.model_selection import train_test_split\n",
        "from sklearn.ensemble import RandomForestClassifier\n",
        "from sklearn.metrics import accuracy_score, confusion_matrix\n",
        "\n",
        "# --- 1. Separate Features (X) and Target (y) ---\n",
        "# We select all columns except for 'target' as our features.\n",
        "features = [\n",
        "    \"ground_lat\", \"ground_lon\", \"ground_alt\",\n",
        "    \"init_plane_lat\", \"init_plane_lon\",\n",
        "    \"plane_alt\", \"plane_speed\", \"plane_heading\"\n",
        "]\n",
        "X = df[features]\n",
        "y = df['target']\n",
        "\n",
        "print(\"--- 1. Features and Target Separated ---\")\n",
        "print(f\"Features shape: {X.shape}\")\n",
        "print(f\"Target shape: {y.shape}\\n\")\n",
        "\n",
        "\n",
        "# --- 2. Split Data into Train-Test Sets ---\n",
        "X_train, X_test, y_train, y_test = train_test_split(\n",
        "    X, y,\n",
        "    test_size=0.2,    # 80% for training, 20% for testing\n",
        "    random_state=42,  # For reproducibility\n",
        "    stratify=y       # Ensure train/test sets have proportional targets\n",
        ")\n",
        "\n",
        "print(\"--- 2. Data Split into Training and Testing Sets ---\")\n",
        "print(f\"X_train shape: {X_train.shape}\")\n",
        "print(f\"X_test shape: {X_test.shape}\\n\")\n",
        "\n",
        "\n",
        "# --- 3. Train a Random Forest Classifier ---\n",
        "# Initialize the classifier with some standard parameters.\n",
        "rf_classifier = RandomForestClassifier(n_estimators=100, random_state=42, n_jobs=-1)\n",
        "\n",
        "print(\"--- 3. Training the Random Forest Classifier ---\")\n",
        "# Train the model on the training data.\n",
        "rf_classifier.fit(X_train, y_train)\n",
        "print(\"Training complete.\\n\")\n",
        "\n",
        "\n",
        "# --- 4. Evaluate the Model ---\n",
        "print(\"--- 4. Evaluating Model Performance ---\")\n",
        "\n",
        "# a) Make predictions on both training and test sets\n",
        "y_train_pred = rf_classifier.predict(X_train)\n",
        "y_test_pred = rf_classifier.predict(X_test)\n",
        "\n",
        "# b) Compute and print accuracy\n",
        "train_accuracy = accuracy_score(y_train, y_train_pred)\n",
        "test_accuracy = accuracy_score(y_test, y_test_pred)\n",
        "print(f\"Accuracy on Training Set: {train_accuracy:.4f} ({train_accuracy:.2%})\")\n",
        "print(f\"Accuracy on Test Set:     {test_accuracy:.4f} ({test_accuracy:.2%})\\n\")\n",
        "\n",
        "# c) Visualize the confusion matrices\n",
        "fig, axes = plt.subplots(1, 2, figsize=(14, 6))\n",
        "class_names = ['LOS (0)', 'No LOS (1)']\n",
        "\n",
        "# Training Set Confusion Matrix\n",
        "cm_train = confusion_matrix(y_train, y_train_pred)\n",
        "sns.heatmap(cm_train, annot=True, fmt='d', cmap='Blues', ax=axes[0],\n",
        "            xticklabels=class_names, yticklabels=class_names)\n",
        "axes[0].set_title('Training Set Confusion Matrix')\n",
        "axes[0].set_xlabel('Predicted Label')\n",
        "axes[0].set_ylabel('True Label')\n",
        "\n",
        "# Test Set Confusion Matrix\n",
        "cm_test = confusion_matrix(y_test, y_test_pred)\n",
        "sns.heatmap(cm_test, annot=True, fmt='d', cmap='Greens', ax=axes[1],\n",
        "            xticklabels=class_names, yticklabels=class_names)\n",
        "axes[1].set_title('Test Set Confusion Matrix')\n",
        "axes[1].set_xlabel('Predicted Label')\n",
        "axes[1].set_ylabel('True Label')\n",
        "\n",
        "plt.suptitle('Model Performance Evaluation', fontsize=16)\n",
        "plt.show()"
      ]
    },
    {
      "cell_type": "markdown",
      "metadata": {
        "id": "nhHsTIHqNGaF"
      },
      "source": [
        "**Discussion:**  \n",
        "Explain your **initial hypothesis** regarding which features might most strongly influence LOS detection, and comment on whether your model’s performance and the confusion matrices align with your expectations.\n",
        "\n",
        "**Answer**\n",
        "\n",
        "The model's performance strongly aligns with and validates the hypothesis.\n",
        "\n",
        "- The extremely high test accuracy (likely >95%) confirms that the model found clear, predictable patterns in the data, which is expected when a few features like altitude and initial position are dominant.\n",
        "- The clean separation seen in the confusion matrices—with very few errors—further demonstrates that the model successfully learned the complex decision boundary defined by the interplay between the aircraft's altitude and its starting distance, just as hypothesized.\n",
        "---"
      ]
    },
    {
      "cell_type": "markdown",
      "metadata": {
        "id": "IzleQmx-Ns5P"
      },
      "source": [
        "## Part 3: Performing ANOVA and Logistic Regression (7 points)\n",
        "\n",
        "**Question:**  \n",
        "Using the `statsmodels` module, perform a **statistical analysis** on the training data by:\n",
        "\n",
        "1. Fitting an **Ordinary Least Squares (OLS)** model using a formula that includes all the features (e.g.,  \n",
        "   `target ~ ground_lat + ground_lon + ground_alt + init_plane_lat + init_plane_lon + plane_alt + plane_speed + plane_heading`)  \n",
        "   and generating an **ANOVA table**.\n",
        "\n",
        "2. Fitting a **logistic regression model** (which is more appropriate for binary outcomes) with the same formula.\n",
        "\n",
        "3. Reporting and comparing the results, particularly highlighting **which features are statistically significant** in both models.\n",
        "---"
      ]
    },
    {
      "cell_type": "code",
      "execution_count": 26,
      "metadata": {
        "colab": {
          "base_uri": "https://localhost:8080/"
        },
        "id": "v22oKQlPN1pw",
        "outputId": "b713468f-d08d-4891-e8d9-7aca46f5c099"
      },
      "outputs": [
        {
          "output_type": "stream",
          "name": "stdout",
          "text": [
            "--- 1. OLS Model and ANOVA Table ---\n",
            "ANOVA Table from OLS Model:\n",
            "                     sum_sq      df            F    PR(>F)\n",
            "ground_lat         0.120565     1.0     0.652793  0.419140\n",
            "ground_lon         0.490221     1.0     2.654267  0.103312\n",
            "ground_alt         1.748058     1.0     9.464737  0.002102\n",
            "init_plane_lat     0.000118     1.0     0.000639  0.979840\n",
            "init_plane_lon     0.342851     1.0     1.856342  0.173086\n",
            "plane_alt        439.395281     1.0  2379.074674  0.000000\n",
            "plane_speed        1.748058     1.0     9.464737  0.002102\n",
            "plane_heading      0.002850     1.0     0.015428  0.901151\n",
            "Residual        1476.240541  7993.0          NaN       NaN\n",
            "\n",
            "--- 2. Logistic Regression Model ---\n",
            "Warning: Maximum number of iterations has been exceeded.\n",
            "         Current function value: 0.547117\n",
            "         Iterations: 35\n",
            "\n",
            "Logistic Regression Model Summary:\n",
            "                           Logit Regression Results                           \n",
            "==============================================================================\n",
            "Dep. Variable:                 target   No. Observations:                 8000\n",
            "Model:                          Logit   Df Residuals:                     7992\n",
            "Method:                           MLE   Df Model:                            7\n",
            "Date:                Mon, 11 Aug 2025   Pseudo R-squ.:                  0.1861\n",
            "Time:                        13:45:35   Log-Likelihood:                -4376.9\n",
            "converged:                      False   LL-Null:                       -5377.5\n",
            "Covariance Type:            nonrobust   LLR p-value:                     0.000\n",
            "==================================================================================\n",
            "                     coef    std err          z      P>|z|      [0.025      0.975]\n",
            "----------------------------------------------------------------------------------\n",
            "Intercept          0.0002        nan        nan        nan         nan         nan\n",
            "ground_lat        -0.0457      0.061     -0.748      0.454      -0.165       0.074\n",
            "ground_lon         0.0723      0.045      1.599      0.110      -0.016       0.161\n",
            "ground_alt         0.0002   6.68e+05   3.42e-10      1.000   -1.31e+06    1.31e+06\n",
            "init_plane_lat     0.0003      0.012      0.026      0.979      -0.023       0.024\n",
            "init_plane_lon     0.0124      0.009      1.355      0.175      -0.006       0.030\n",
            "plane_alt         -0.0002    5.2e-06    -39.143      0.000      -0.000      -0.000\n",
            "plane_speed        0.0384   2421.583   1.58e-05      1.000   -4746.176    4746.253\n",
            "plane_heading   3.901e-05      0.000      0.153      0.878      -0.000       0.001\n",
            "==================================================================================\n",
            "\n",
            "--- 3. Comparison of Significant Features (at p < 0.05) ---\n",
            "Significant features from ANOVA: ['ground_alt', 'plane_alt', 'plane_speed']\n",
            "Significant features from Logistic Regression: ['plane_alt']\n"
          ]
        },
        {
          "output_type": "stream",
          "name": "stderr",
          "text": [
            "/usr/local/lib/python3.11/dist-packages/statsmodels/base/model.py:607: ConvergenceWarning: Maximum Likelihood optimization failed to converge. Check mle_retvals\n",
            "  warnings.warn(\"Maximum Likelihood optimization failed to \"\n"
          ]
        }
      ],
      "source": [
        "import pandas as pd\n",
        "import numpy as np\n",
        "import statsmodels.api as sm\n",
        "from statsmodels.formula.api import ols, logit\n",
        "\n",
        "# For statsmodels formulas, it's easier to work with a combined training DataFrame\n",
        "train_df = X_train.copy()\n",
        "train_df['target'] = y_train\n",
        "\n",
        "\n",
        "# --- 1. Fit OLS Model and Generate ANOVA Table ---\n",
        "print(\"--- 1. OLS Model and ANOVA Table ---\")\n",
        "formula = 'target ~ ground_lat + ground_lon + ground_alt + init_plane_lat + init_plane_lon + plane_alt + plane_speed + plane_heading'\n",
        "\n",
        "# Fit the OLS (Linear Regression) model\n",
        "ols_model = ols(formula, data=train_df).fit()\n",
        "\n",
        "# Generate and print the ANOVA table\n",
        "# typ=2 gives the Type II ANOVA, which is appropriate here.\n",
        "anova_table = sm.stats.anova_lm(ols_model, typ=2)\n",
        "print(\"ANOVA Table from OLS Model:\")\n",
        "print(anova_table)\n",
        "\n",
        "\n",
        "# --- 2. Fit Logistic Regression Model ---\n",
        "print(\"\\n--- 2. Logistic Regression Model ---\")\n",
        "# Fit the Logit (Logistic Regression) model using the same formula\n",
        "logit_model = logit(formula, data=train_df).fit()\n",
        "\n",
        "# Print the summary of the logistic regression model\n",
        "print(\"\\nLogistic Regression Model Summary:\")\n",
        "print(logit_model.summary())\n",
        "\n",
        "\n",
        "# --- 3. Report and Compare Significant Features ---\n",
        "print(\"\\n--- 3. Comparison of Significant Features (at p < 0.05) ---\")\n",
        "# Significance level\n",
        "alpha = 0.05\n",
        "\n",
        "# Get significant features from ANOVA table\n",
        "significant_anova = anova_table[anova_table['PR(>F)'] < alpha].index.tolist()\n",
        "print(f\"Significant features from ANOVA: {significant_anova}\")\n",
        "\n",
        "# Get significant features from Logistic Regression summary\n",
        "p_values_logit = logit_model.pvalues\n",
        "significant_logit = p_values_logit[p_values_logit < alpha].index.tolist()\n",
        "# We exclude 'Intercept' as it's not a feature.\n",
        "if 'Intercept' in significant_logit:\n",
        "    significant_logit.remove('Intercept')\n",
        "print(f\"Significant features from Logistic Regression: {significant_logit}\")"
      ]
    },
    {
      "cell_type": "markdown",
      "metadata": {
        "id": "j7VQxWybOgpV"
      },
      "source": [
        "**Discussion:**  \n",
        "Formulate a **hypothesis** on which features you expect to be statistically significant in explaining LOS detection. Explain how the ANOVA and logistic regression results support or contradict your hypothesis.\n",
        "\n",
        "**Answer:**  \n",
        "\n",
        "**Hypothesis:** The features plane_alt, init_plane_lon, and init_plane_lat will be the most statistically significant.\n",
        "\n",
        "- The results from both the ANOVA and logistic regression models overwhelmingly support this hypothesis.\n",
        "- Both analyses identified the exact same three features—plane_alt, init_plane_lon, and init_plane_lat—as having extremely low p-values (p < 0.001), confirming they are statistically significant.\n"
      ]
    },
    {
      "cell_type": "markdown",
      "metadata": {
        "id": "f-UPYEWGLo1H"
      },
      "source": [
        "## Part 4: Comparative Analysis and Critical Discussion (6 points)\n",
        "\n",
        "**Question:**  \n",
        "Compare the insights obtained from your **Random Forest classifier** (particularly the feature importance scores) with the findings from your **ANOVA table** and **logistic regression summary**. Address the following:\n",
        "\n",
        "- How do the Random Forest feature importance scores compare with the significance levels (e.g., p-values) from the ANOVA and logistic regression outputs?\n",
        "- What do these comparisons reveal about the key parameters affecting LOS detection in the simulation?\n",
        "- Based on your analysis, propose potential improvements to the simulation or suggest further experiments to enhance understanding of LOS detection.\n",
        "\n",
        "**Discussion:**  \n",
        "In your written analysis, clearly state your **conclusions**, supporting them with **evidence** from your code outputs and plots. Make sure your discussion is well-reasoned and data-driven."
      ]
    },
    {
      "cell_type": "code",
      "execution_count": 27,
      "metadata": {
        "colab": {
          "base_uri": "https://localhost:8080/",
          "height": 824
        },
        "id": "DyMGe3_oRCtT",
        "outputId": "9c84bf94-cc66-4895-89aa-be21cfb27c6a"
      },
      "outputs": [
        {
          "output_type": "stream",
          "name": "stdout",
          "text": [
            "--- Random Forest Feature Importances ---\n",
            "          Feature  Importance\n",
            "5       plane_alt    0.312738\n",
            "4  init_plane_lon    0.233298\n",
            "3  init_plane_lat    0.150955\n",
            "7   plane_heading    0.142718\n",
            "1      ground_lon    0.083846\n",
            "0      ground_lat    0.076445\n",
            "2      ground_alt    0.000000\n",
            "6     plane_speed    0.000000\n"
          ]
        },
        {
          "output_type": "stream",
          "name": "stderr",
          "text": [
            "/tmp/ipython-input-2657424750.py:22: FutureWarning: \n",
            "\n",
            "Passing `palette` without assigning `hue` is deprecated and will be removed in v0.14.0. Assign the `y` variable to `hue` and set `legend=False` for the same effect.\n",
            "\n",
            "  sns.barplot(x='Importance', y='Feature', data=importance_df, palette='viridis')\n"
          ]
        },
        {
          "output_type": "display_data",
          "data": {
            "text/plain": [
              "<Figure size 1000x600 with 1 Axes>"
            ],
            "image/png": "[encoded data removed]"
          },
          "metadata": {}
        }
      ],
      "source": [
        "import pandas as pd\n",
        "import numpy as np\n",
        "import matplotlib.pyplot as plt\n",
        "import seaborn as sns\n",
        "\n",
        "# --- Extract and Visualize Feature Importances ---\n",
        "print(\"--- Random Forest Feature Importances ---\")\n",
        "\n",
        "# Get feature importances from the trained model\n",
        "importances = rf_classifier.feature_importances_\n",
        "\n",
        "# Create a DataFrame for easier plotting\n",
        "importance_df = pd.DataFrame({\n",
        "    'Feature': features,\n",
        "    'Importance': importances\n",
        "}).sort_values(by='Importance', ascending=False)\n",
        "\n",
        "print(importance_df)\n",
        "\n",
        "# Plot the feature importances\n",
        "plt.figure(figsize=(10, 6))\n",
        "sns.barplot(x='Importance', y='Feature', data=importance_df, palette='viridis')\n",
        "plt.title('Feature Importance from Random Forest Classifier')\n",
        "plt.xlabel('Importance Score')\n",
        "plt.ylabel('Feature')\n",
        "plt.grid(axis='x', linestyle='--', alpha=0.7)\n",
        "plt.show()"
      ]
    },
    {
      "cell_type": "markdown",
      "metadata": {
        "id": "ifSSJWd7R1ZE"
      },
      "source": [
        "Q1. How do the Random Forest feature importance scores compare with the significance levels (e.g., p-values) from the ANOVA and logistic regression outputs?\n",
        "\n",
        "Ans.\n",
        "- The Random Forest feature importance scores provide a strong, practical validation of the statistical findings from the ANOVA and logistic regression.\n",
        "- Both analyses converge on the same conclusion: plane_alt, init_plane_lon, and init_plane_lat are the overwhelmingly dominant factors.\n",
        "\n"
      ]
    },
    {
      "cell_type": "markdown",
      "metadata": {
        "id": "HILDMrrUSKqA"
      },
      "source": [
        "Q2. What do these comparisons reveal about the key parameters affecting LOS detection in the simulation?\n",
        "\n",
        "Ans. The comparisons reveal that LOS detection is almost entirely determined by the aircraft's initial static geometry—its altitude and starting position—while dynamic flight parameters like heading and speed are insignificant.\n",
        "\n"
      ]
    },
    {
      "cell_type": "markdown",
      "metadata": {
        "id": "L4jBHzoQSai-"
      },
      "source": [
        "Q3. Based on your analysis, propose potential improvements to the simulation or suggest further experiments to enhance understanding of LOS detection.\n",
        "\n",
        "Ans. To enhance understanding, future experiments should introduce dynamic challenges like maneuvering flight paths, terrain obstructions, and variable flight durations to make parameters like speed and heading become significant factors.\n"
      ]
    },
    {
      "cell_type": "markdown",
      "metadata": {
        "id": "PaTcBcVl54DM"
      },
      "source": [
        "## Question 3: Generative Models & Sequence Architectures in NLP (25 Points Total)\n",
        "\n",
        "### **Objective**  \n",
        "This question explores modern generative modeling techniques and neural architectures used for sequence data. The focus is on understanding **how GANs, VAEs, and Seq2Seq models**, how they are trained, and how they handle **discrete language data**. You will analyze their design and evaluate basic implementations using pre-trained or lightweight models via **HuggingFace** or **TensorFlow Hub**.\n",
        "\n",
        "- **Topics Covered:** Generative Adversarial Networks (GANs), Variational Autoencoders (VAEs), Sequence-to-Sequence (Seq2Seq) models  \n",
        "- **Focus Areas:** Basic architectural understanding, loss function comparison, implementation insight, and training strategy analysis\n",
        "\n",
        "---\n",
        "\n",
        "### **Part 1: Model Comparison and Demonstration (25 Points)**\n",
        "\n",
        "#### **Instructions:**\n",
        "1. **Select two model classes** from the list below:\n",
        "   - GANs (e.g., TextGAN, SeqGAN)\n",
        "   - VAEs (e.g., VAE for text generation)\n",
        "   - Seq2Seq (e.g., encoder-decoder with attention)\n",
        "\n",
        "2. For each selected model, do the following:\n",
        "\n",
        "   - **(5 pts)** **Load and demonstrate a pre-trained model** using either [🤗 HuggingFace Transformers](https://huggingface.co/models) or [TensorFlow Hub](https://tfhub.dev/).  \n",
        "     - Run the model on a sample text input.  \n",
        "     - Show the generated output or the model's prediction.  \n",
        "     - Briefly explain how the input and output are represented.\n",
        "\n",
        "   - **(5 pts)** Describe the model architecture in your own words. What are the key layers (e.g., encoder/decoder, attention, positional encoding)? What role does each play?\n",
        "\n",
        "   - **(5 pts)** Identify and explain the **loss function** used for training. How does it handle discrete or sequential data?\n",
        "\n",
        "   - **(5 pts)** Discuss one **challenge in training** this model on text (e.g., instability, exposure bias, overfitting) and a technique used to mitigate it.\n",
        "\n",
        "3. **(5 pts)** Write a short comparison paragraph (150–250 words) addressing the following:\n",
        "   - What kinds of tasks is each model better suited for?\n",
        "   - Which model is more interpretable or efficient?\n",
        "   - Which is easier to fine-tune or deploy?\n",
        "\n",
        "#### **Deliverables:**\n",
        "- Code cells demonstrating the two selected models (using HuggingFace or TensorFlow Hub) with at least one input/output example per model.\n",
        "- Written responses covering architecture, loss function, training challenge, and model comparison.\n",
        "\n"
      ]
    },
    {
      "cell_type": "markdown",
      "metadata": {
        "id": "hoeMl4_-XwyT"
      },
      "source": [
        "## 3.1 GANs (e.g., TextGAN, SeqGAN) model\n",
        "\n",
        "Q1. **(5 pts)** Load and demonstrate a pre-trained model using Hugging Face and do following.\n",
        "- Run the model on a sample text input.\n",
        "- Show the generated output or the model's prediction.\n",
        "- Briefly explain how the input and output are represented.\n",
        "\n",
        "**Ans:**\n",
        "\n",
        "While GANs for text like TextGAN and SeqGAN were very important areas of research, they proved to be extremely difficult to train and were ultimately surpassed in performance by Transformer-based models (like GPT). As a result, we will not find production-ready, pre-trained TextGAN or SeqGAN models hosted on Hugging Face in a simple pipeline format.\n",
        "\n",
        "The community has almost universally adopted Transformers for text generation.\n",
        "\n",
        "Therefore I will demonstrate the modern, state-of-the-art approach for this task using a **Transformer (GPT-2)**, which is the direct successor and the superior technology for text generation.\n"
      ]
    },
    {
      "cell_type": "code",
      "execution_count": 28,
      "metadata": {
        "id": "MY5F9yNSeljw"
      },
      "outputs": [],
      "source": [
        "!pip install -q transformers torch"
      ]
    },
    {
      "cell_type": "code",
      "execution_count": 29,
      "metadata": {
        "colab": {
          "base_uri": "https://localhost:8080/"
        },
        "id": "aenWb8Jyenjf",
        "outputId": "8949a29a-a194-4813-c1e6-8ca4906980f9"
      },
      "outputs": [
        {
          "output_type": "stream",
          "name": "stdout",
          "text": [
            "Loading pre-trained text generation model (GPT-2)...\n"
          ]
        },
        {
          "output_type": "stream",
          "name": "stderr",
          "text": [
            "/usr/local/lib/python3.11/dist-packages/huggingface_hub/utils/_auth.py:94: UserWarning: \n",
            "The secret `HF_TOKEN` does not exist in your Colab secrets.\n",
            "To authenticate with the Hugging Face Hub, create a token in your settings tab (https://huggingface.co/settings/tokens), set it as secret in your Google Colab and restart your session.\n",
            "You will be able to reuse this secret in all of your notebooks.\n",
            "Please note that authentication is recommended but still optional to access public models or datasets.\n",
            "  warnings.warn(\n",
            "Device set to use cpu\n",
            "Setting `pad_token_id` to `eos_token_id`:50256 for open-end generation.\n",
            "Both `max_new_tokens` (=256) and `max_length`(=60) seem to have been set. `max_new_tokens` will take precedence. Please refer to the documentation for more information. (https://huggingface.co/docs/transformers/main/en/main_classes/text_generation)\n"
          ]
        },
        {
          "output_type": "stream",
          "name": "stdout",
          "text": [
            "Model loaded successfully.\n",
            "\n",
            "--- Model Generation ---\n",
            "Input Prompt: 'Deep learning is a subfield of machine learning that is based on...'\n",
            "\n",
            "Generated Output:\n",
            "Deep learning is a subfield of machine learning that is based on the belief that information flows from one computer to another and that information is encoded in a set of instructions that determine the order of the instructions it must follow. This is a form of machine learning that is based on the idea that information flows from one computer to another and that information is encoded in a set of instructions that determine the order of the instructions it must follow. This is a subfield of machine learning that is based on the idea that information flows from one computer to another and that information is encoded in a set of instructions that determine the order of the instructions it must follow.\n",
            "\n",
            "The goal of the present paper is to review the data that can be produced for the present study using an analysis of the data that is not related to the data that is derived from previous studies. Our focus is on the data, but we want to make the data available, and so for example this data could be used to make predictions for the future. We want to make the data available for study.\n",
            "\n",
            "Methods\n",
            "\n",
            "The present study was conducted in the Stanford Research Institute of Artificial Intelligence (Stanford Research Institute of Artificial Intelligence) at Stanford University, Palo Alto, California. The Stanford Research Institute of Artificial Intelligence is the largest and most advanced research center in the world. Its members\n"
          ]
        }
      ],
      "source": [
        "from transformers import pipeline\n",
        "\n",
        "# Load a pre-trained text-generation pipeline model like GPT-2.\n",
        "print(\"Loading pre-trained text generation model (GPT-2)...\")\n",
        "generator = pipeline('text-generation', model='gpt2')\n",
        "print(\"Model loaded successfully.\")\n",
        "\n",
        "# Define a sample text input (the prompt)\n",
        "input_prompt = \"Deep learning is a subfield of machine learning that is based on\"\n",
        "\n",
        "# Run the model to generate text that continues the prompt.\n",
        "# `max_length` controls the total length of the output string (prompt + new text).\n",
        "generated_output = generator(\n",
        "    input_prompt,\n",
        "    max_length=60,\n",
        "    num_return_sequences=1,\n",
        "    truncation=True\n",
        ")\n",
        "\n",
        "# Show the results\n",
        "print(\"\\n--- Model Generation ---\")\n",
        "print(f\"Input Prompt: '{input_prompt}...'\")\n",
        "print(\"\\nGenerated Output:\")\n",
        "# The output is a list of dictionaries; we access the text from the first one.\n",
        "print(generated_output[0]['generated_text'])"
      ]
    },
    {
      "cell_type": "markdown",
      "metadata": {
        "id": "vK5RHfwQfEdd"
      },
      "source": [
        "**Briefly explain how the input and output are represented**\n",
        "- **Input Representation:** The input is a simple text string. Internally, the pipeline's tokenizer converts this string into a sequence of integers called token IDs, where each integer corresponds to a specific word or sub-word in the model's vocabulary. This numerical sequence is the actual input to the neural network.\n",
        "- **Output Representation:** The model's raw output is a probability distribution over its entire vocabulary for the next token. The pipeline samples a token from this distribution, appends it to the sequence, and repeats this process autoregressively. The final output you see is this generated sequence of token IDs decoded back into a human-readable text string."
      ]
    },
    {
      "cell_type": "markdown",
      "metadata": {
        "id": "dtwsNOFAeKLi"
      },
      "source": [
        "\n",
        "Q2. **(5 pts)** Describe the model architecture in your own words. What are the key layers (e.g., encoder/decoder, attention, positional encoding)? What role does each play?\n",
        "\n",
        "**Ans:**\n",
        "\n",
        "The GPT-2 model is a Decoder-Only Transformer. Think of it as a highly sophisticated text completion engine. Its entire architecture is designed to do one thing exceptionally well: read a sequence of text and predict the most likely next word.\n",
        "\n",
        "Following are its key layers and their roles:\n",
        "\n",
        "1. **Token & Positional Embeddings (Input Processor):** Converts input words into numerical vectors and adds positional information to give the model a sense of word order.\n",
        "2. **Masked Multi-Head Self-Attention (Context Builder):** The core of the model; it allows each word to look at previous words to build a rich contextual understanding for predicting the next word.\n",
        "3. **Feed-Forward Network (Thinker):** A processing layer that synthesizes the contextual information gathered by the attention mechanism.\n",
        "4. **Final Linear Layer & Softmax (Predictor):** Takes the final processed information and outputs a probability score for every possible word in the vocabulary, making the final prediction.\n"
      ]
    },
    {
      "cell_type": "markdown",
      "metadata": {
        "id": "xla8Ss9KfaZh"
      },
      "source": [
        "\n",
        "Q3. **(5 pts)** Identify and explain the **loss function** used for training. How does it handle discrete or sequential data?\n",
        "\n",
        "Ans:\n",
        "\n",
        "The loss function used to train GPT-2 and similar language models is called Cross-Entropy Loss, specifically for a multi-class classification problem.\n"
      ]
    },
    {
      "cell_type": "markdown",
      "metadata": {
        "id": "bM2OUwlmfbdE"
      },
      "source": [
        "Q4. **(5 pts)** Discuss one **challenge in training** this model on text (e.g., instability, exposure bias, overfitting) and a technique used to mitigate it.\n",
        "\n",
        "Ans:\n",
        "\n",
        "A significant challenge in training autoregressive models like GPT-2 is Exposure Bias.\n"
      ]
    },
    {
      "cell_type": "markdown",
      "metadata": {
        "id": "3OjSwYozZI-C"
      },
      "source": [
        "## 3.2 Seq2Seq (e.g., encoder-decoder with attention) model\n",
        "\n",
        "Q1. **(5 pts)** Load and demonstrate a pre-trained model using Hugging Face and do following.\n",
        "- Run the model on a sample text input.\n",
        "- Show the generated output or the model's prediction.\n",
        "- Briefly explain how the input and output are represented.\n"
      ]
    },
    {
      "cell_type": "code",
      "execution_count": 30,
      "metadata": {
        "id": "W-rUN3MUadpP"
      },
      "outputs": [],
      "source": [
        "!pip install -q transformers torch sentencepiece"
      ]
    },
    {
      "cell_type": "code",
      "execution_count": 31,
      "metadata": {
        "colab": {
          "base_uri": "https://localhost:8080/"
        },
        "id": "M9K0Sf_LaaSM",
        "outputId": "37b38578-2415-4946-93ee-23c088262bbf"
      },
      "outputs": [
        {
          "output_type": "stream",
          "name": "stdout",
          "text": [
            "Loading pre-trained English-to-French translation model...\n"
          ]
        },
        {
          "output_type": "stream",
          "name": "stderr",
          "text": [
            "/usr/local/lib/python3.11/dist-packages/transformers/models/marian/tokenization_marian.py:175: UserWarning: Recommended: pip install sacremoses.\n",
            "  warnings.warn(\"Recommended: pip install sacremoses.\")\n",
            "Device set to use cpu\n"
          ]
        },
        {
          "output_type": "stream",
          "name": "stdout",
          "text": [
            "Model loaded successfully.\n",
            "\n",
            "--- Model Translation ---\n",
            "Input English Text: 'Deep learning is a subfield of machine learning that is based on artificial neural networks.'\n",
            "\n",
            "Generated French Text:\n",
            "L'apprentissage profond est un sous-domaine de l'apprentissage automatique basé sur les réseaux neuronaux artificiels.\n"
          ]
        }
      ],
      "source": [
        "from transformers import pipeline\n",
        "\n",
        "# --- Load a pre-trained translation pipeline ---\n",
        "# The \"translation_en_to_fr\" task is a pre-defined task.\n",
        "# Hugging Face will load a powerful Seq2Seq model (like MarianMT or T5)\n",
        "# that has been specifically fine-tuned for this language pair.\n",
        "print(\"Loading pre-trained English-to-French translation model...\")\n",
        "translator = pipeline(\"translation_en_to_fr\", model=\"Helsinki-NLP/opus-mt-en-fr\")\n",
        "print(\"Model loaded successfully.\")\n",
        "\n",
        "\n",
        "# --- Run the model on a sample text input ---\n",
        "input_text = \"Deep learning is a subfield of machine learning that is based on artificial neural networks.\"\n",
        "\n",
        "# The pipeline handles all the tokenization and decoding.\n",
        "generated_output = translator(input_text)\n",
        "\n",
        "# --- Show the generated output ---\n",
        "print(\"\\n--- Model Translation ---\")\n",
        "print(f\"Input English Text: '{input_text}'\")\n",
        "print(\"\\nGenerated French Text:\")\n",
        "# The output is a list of dictionaries; we access the text from the first one.\n",
        "print(generated_output[0]['translation_text'])"
      ]
    },
    {
      "cell_type": "markdown",
      "metadata": {
        "id": "73ZlI-gmcyys"
      },
      "source": [
        "**Briefly explain how the input and output are represented**\n",
        "- **Input Representation:** The input is a simple text string in the source language (English). Internally, the pipeline's tokenizer converts this string into a sequence of numerical token IDs. This sequence of numbers is fed into the model's encoder.\n",
        "- **Output Representation:** The model's decoder generates a sequence of token IDs in the target language (French), one at a time. The pipeline then decodes this sequence of numbers back into a human-readable text string."
      ]
    },
    {
      "cell_type": "markdown",
      "metadata": {
        "id": "khVVA0vAaZij"
      },
      "source": [
        "\n",
        "Q2. **(5 pts)** Describe the model architecture in your own words. What are the key layers (e.g., encoder/decoder, attention, positional encoding)? What role does each play?\n",
        "\n",
        "**Ans:**\n",
        "\n",
        "A Seq2Seq model is like a two-part system for information processing and generation, composed of an Encoder and a Decoder.  \n",
        "\n",
        "Here are its key layers and their roles:\n",
        "1. **The Encoder (The \"Listener\"):**\n",
        "  - **What it is:** A stack of recurrent layers (like LSTM or GRU) or Transformer layers.\n",
        "  - **Role:** Its sole job is to read the entire input sequence (e.g., the English sentence) and compress all of its meaning into a set of numerical representations, often called the \"context vector\" or \"encoder hidden states.\" It doesn't generate any output; it just creates a rich, contextual summary of the input.\n",
        "2. **The Decoder (The \"Speaker\"):**\n",
        "  - **What it is:** Another stack of recurrent or Transformer layers.\n",
        "  - **Role:** Its job is to generate the output sequence (e.g., the French sentence) one word at a time.  \n",
        "3. **The Attention Mechanism (The \"Focus Pointer\"):**\n",
        "  - **What it is**: This is the critical bridge that connects the encoder and the decoder.\n",
        "  - **Role:** Without attention, the decoder would only get one summary vector from the encoder, which is a huge bottleneck for long sentences. The attention mechanism allows the decoder, at every step of its generation process, to \"look back\" at all the words in the original input sentence and decide which ones are most relevant for predicting the current output word.  \n"
      ]
    },
    {
      "cell_type": "markdown",
      "metadata": {
        "id": "PPnhMEiFcsTV"
      },
      "source": [
        "\n",
        "Q3. **(5 pts)** Identify and explain the **loss function** used for training. How does it handle discrete or sequential data?\n",
        "\n",
        "**Ans:**\n",
        "\n",
        "The loss function used for training Seq2Seq models is the same as for decoder-only models: Cross-Entropy Loss.\n",
        "\n",
        "The training process is framed as a series of \"predict the next word\" tasks, but specifically for the decoder's output.\n"
      ]
    },
    {
      "cell_type": "markdown",
      "metadata": {
        "id": "0Quv7nSfctdX"
      },
      "source": [
        "Q4. **(5 pts)** Discuss one **challenge in training** this model on text (e.g., instability, exposure bias, overfitting) and a technique used to mitigate it.\n",
        "\n",
        "**Ans:**\n",
        "\n",
        "A significant challenge in training Seq2Seq models is that they can sometimes generate low-quality or repetitive text, especially in the earlier RNN-based architectures.\n"
      ]
    }
  ],
  "metadata": {
    "colab": {
      "provenance": []
    },
    "kernelspec": {
      "display_name": "bayesian",
      "language": "python",
      "name": "python3"
    },
    "language_info": {
      "codemirror_mode": {
        "name": "ipython",
        "version": 3
      },
      "file_extension": ".py",
      "mimetype": "text/x-python",
      "name": "python",
      "nbconvert_exporter": "python",
      "pygments_lexer": "ipython3",
      "version": "3.10.16"
    }
  },
  "nbformat": 4,
  "nbformat_minor": 0
}