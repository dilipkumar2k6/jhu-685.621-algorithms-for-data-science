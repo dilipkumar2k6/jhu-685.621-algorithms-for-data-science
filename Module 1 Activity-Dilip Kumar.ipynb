{
  "metadata": {
    "kernelspec": {
      "name": "python",
      "display_name": "Python (Pyodide)",
      "language": "python"
    },
    "language_info": {
      "codemirror_mode": {
        "name": "python",
        "version": 3
      },
      "file_extension": ".py",
      "mimetype": "text/x-python",
      "name": "python",
      "nbconvert_exporter": "python",
      "pygments_lexer": "ipython3",
      "version": "3.8"
    },
    "interpreter": {
      "hash": "aee8b7b246df8f9039afb4144a1f6fd8d2ca17a180786b69acc140d282b71a49"
    }
  },
  "nbformat_minor": 4,
  "nbformat": 4,
  "cells": [
    {
      "cell_type": "markdown",
      "source": "# <h3 align=\"center\">__Module 1 Activity__</h3>\n# <h3 align=\"center\">__Assigned at the start of Module 1__</h3>\n# <h3 align=\"center\">__Due at the end of Module 1__</h3><br>\n\n",
      "metadata": {
        "jp-MarkdownHeadingCollapsed": true
      }
    },
    {
      "cell_type": "markdown",
      "source": "# Weekly Discussion Forum Participation\n\nEach week, you are required to participate in the module’s discussion forum. The discussion forum consists of the week's Module Activity, which is released at the beginning of the module. You must complete/attempt the activity before you can post about the activity and anything that relates to the topic. \n\n## Grading of the Discussion\n\n### 1. Initial Post:\nCreate your thread by **Day 5 (Saturday night at midnight, PST).**\n\n### 2. Responses:\nRespond to at least two other posts by **Day 7 (Monday night at midnight, PST).**\n\n---\n\n## Grading Criteria:\n\nYour participation will be graded as follows:\n\n### Full Credit (100 points):\n- Submit your initial post by **Day 5.**\n- Respond to at least two other posts by **Day 7.**\n\n### Half Credit (50 points):\n- If your initial post is late but you respond to two other posts.\n- If your initial post is on time but you fail to respond to at least two other posts.\n\n### No Credit (0 points):\n- If both your initial post and responses are late.\n- If you fail to submit an initial post and do not respond to any others.\n\n---\n\n## Additional Notes:\n\n- **Late Initial Posts:** Late posts will automatically receive half credit if two responses are completed on time.\n- **Substance Matters:** Responses must be thoughtful and constructive. Comments like “Great post!” or “I agree!” without further explanation will not earn credit.\n- **Balance Participation:** Aim to engage with threads that have fewer or no responses to ensure a balanced discussion.\n\n---\n\n## Avoid:\n- A number of posts within a very short time-frame, especially immediately prior to the posting deadline.\n- Posts that complement another post, and then consist of a summary of that.\n",
      "metadata": {}
    },
    {
      "cell_type": "code",
      "source": "import pandas as pd\nfrom sklearn.datasets import load_iris\n\niris = load_iris()\n\niris_df = pd.DataFrame(\n    data=iris.data,\n    columns=iris.feature_names\n)\niris_df['target'] = iris.target\n\niris_df.head()\n",
      "metadata": {
        "trusted": true
      },
      "outputs": [
        {
          "execution_count": 1,
          "output_type": "execute_result",
          "data": {
            "text/plain": "   sepal length (cm)  sepal width (cm)  petal length (cm)  petal width (cm)  \\\n0                5.1               3.5                1.4               0.2   \n1                4.9               3.0                1.4               0.2   \n2                4.7               3.2                1.3               0.2   \n3                4.6               3.1                1.5               0.2   \n4                5.0               3.6                1.4               0.2   \n\n   target  \n0       0  \n1       0  \n2       0  \n3       0  \n4       0  ",
            "text/html": "<div>\n<style scoped>\n    .dataframe tbody tr th:only-of-type {\n        vertical-align: middle;\n    }\n\n    .dataframe tbody tr th {\n        vertical-align: top;\n    }\n\n    .dataframe thead th {\n        text-align: right;\n    }\n</style>\n<table border=\"1\" class=\"dataframe\">\n  <thead>\n    <tr style=\"text-align: right;\">\n      <th></th>\n      <th>sepal length (cm)</th>\n      <th>sepal width (cm)</th>\n      <th>petal length (cm)</th>\n      <th>petal width (cm)</th>\n      <th>target</th>\n    </tr>\n  </thead>\n  <tbody>\n    <tr>\n      <th>0</th>\n      <td>5.1</td>\n      <td>3.5</td>\n      <td>1.4</td>\n      <td>0.2</td>\n      <td>0</td>\n    </tr>\n    <tr>\n      <th>1</th>\n      <td>4.9</td>\n      <td>3.0</td>\n      <td>1.4</td>\n      <td>0.2</td>\n      <td>0</td>\n    </tr>\n    <tr>\n      <th>2</th>\n      <td>4.7</td>\n      <td>3.2</td>\n      <td>1.3</td>\n      <td>0.2</td>\n      <td>0</td>\n    </tr>\n    <tr>\n      <th>3</th>\n      <td>4.6</td>\n      <td>3.1</td>\n      <td>1.5</td>\n      <td>0.2</td>\n      <td>0</td>\n    </tr>\n    <tr>\n      <th>4</th>\n      <td>5.0</td>\n      <td>3.6</td>\n      <td>1.4</td>\n      <td>0.2</td>\n      <td>0</td>\n    </tr>\n  </tbody>\n</table>\n</div>"
          },
          "metadata": {}
        }
      ],
      "execution_count": 1
    },
    {
      "cell_type": "markdown",
      "source": "# __1. Module 1__<br>\n\nPython has four inbuilt data structures as follows:<br>\n1. Lists\n2. Dictionary\n3. Tuple\n4. Set <br>\n\nFor each of these data structures use the Iris data set and provide the following:",
      "metadata": {}
    },
    {
      "cell_type": "markdown",
      "source": "# (a) Lists\n- Define a \"list\" as comprehensively and accurately as you would find in a dictionary. Provide a clear and concise explanation, covering its essential meaning, characteristics, and any relevant context.\n- Create a list in Python using the first observation, all features and label from the Iris data set\n- Show the output with a print statement\n- Add the second observation of the Iris data set to your list\n- Show the output of your list with a print statement",
      "metadata": {}
    },
    {
      "cell_type": "markdown",
      "source": "## List is an ordered and mutable collection of items to stores a sequence of elements that can be of different types  (e.g., numbers, strings, objects, or even other lists) ##",
      "metadata": {}
    },
    {
      "cell_type": "code",
      "source": "## import libraries\nimport pandas as pd\n\n## import iris dataset\nfrom sklearn.datasets import load_iris\n\niris = load_iris()",
      "metadata": {
        "trusted": true
      },
      "outputs": [],
      "execution_count": 2
    },
    {
      "cell_type": "code",
      "source": "## Type code here for the problem ##\n\n# Load as DataFrame\niris_df = pd.DataFrame(\n    data = iris.data,\n    columns = iris.feature_names\n)\n# Add target as additional column to data frame\niris_df['target'] = iris.target\n\n# Get the first observation i.e. first row, all features i.e. all the columns and label i.e. add target column as well\nfirst_observation_series = iris_df.iloc[0]\n\n# Convert panda series into python list\nobservation_list = [first_observation_series.tolist()]\n\n# Print the first observation as a python list\nprint(\"First row observation list\")\nprint(observation_list)\n\n# Read second observation\nsecond_observation_series = iris_df.iloc[1]\nsecond_observation_list = second_observation_series.tolist()\n\n# Apend second observation list to observation list\nobservation_list.append(second_observation_list)\n\n# Print after adding the second observation\nprint(\"After adding the second row observation\")\nprint(observation_list)\n",
      "metadata": {
        "trusted": true
      },
      "outputs": [
        {
          "name": "stdout",
          "output_type": "stream",
          "text": "First row observation list\n[[5.1, 3.5, 1.4, 0.2, 0.0]]\nAfter adding the second row observation\n[[5.1, 3.5, 1.4, 0.2, 0.0], [4.9, 3.0, 1.4, 0.2, 0.0]]\n"
        }
      ],
      "execution_count": 7
    },
    {
      "cell_type": "markdown",
      "source": "# (b) Dictionary\n- Define a \"dictionary\" as comprehensively and accurately as you would find in a dictionary. Provide a clear and concise explanation, covering its essential meaning, characteristics, and any relevant context.\n- Create a dictionary in Python using the classes of Setosa, Versicolor and Virginica, allow elements (2 observations per class) to be added\n- Show the output with a print statement\n- Add a third observation of the Iris data set for each class\n- Show the output of your with a print statement",
      "metadata": {}
    },
    {
      "cell_type": "markdown",
      "source": "## Dictionary is an unordered and mutable collection of key/value pair with faster read/write/delete operation based on hashable key. It is used to define structured data. ##",
      "metadata": {}
    },
    {
      "cell_type": "code",
      "source": "## Type code here for the problem ##\n# Read the species names\nspecies = [str(target) for target in iris.target_names]\n\n# Group DataFrame as per species name\nspecies_df_dict = {species_name: iris_df[iris_df['target'] == speceis_id]  for speceis_id, species_name in enumerate(species) }\n\n# Dictionary of species with two observations\nspecies_dict_observations = {species_name: species_df_dict[species_name].iloc[0:2].values.tolist() for  species_name in species }\nprint(\"Flower classes with two observations\")\nprint(species_dict_observations)\n\n# Add one more observation with each species\nfor species_name in species:\n    species_dict_observations[species_name].append(species_df_dict[species_name].iloc[2].tolist())\nprint(\"Flower classes with three observations\")\nprint(species_dict_observations)\n",
      "metadata": {
        "trusted": true
      },
      "outputs": [
        {
          "name": "stdout",
          "output_type": "stream",
          "text": "Flower classes with two observations\n{'setosa': [[5.1, 3.5, 1.4, 0.2, 0.0], [4.9, 3.0, 1.4, 0.2, 0.0]], 'versicolor': [[7.0, 3.2, 4.7, 1.4, 1.0], [6.4, 3.2, 4.5, 1.5, 1.0]], 'virginica': [[6.3, 3.3, 6.0, 2.5, 2.0], [5.8, 2.7, 5.1, 1.9, 2.0]]}\nFlower classes with three observations\n{'setosa': [[5.1, 3.5, 1.4, 0.2, 0.0], [4.9, 3.0, 1.4, 0.2, 0.0], [4.7, 3.2, 1.3, 0.2, 0.0]], 'versicolor': [[7.0, 3.2, 4.7, 1.4, 1.0], [6.4, 3.2, 4.5, 1.5, 1.0], [6.9, 3.1, 4.9, 1.5, 1.0]], 'virginica': [[6.3, 3.3, 6.0, 2.5, 2.0], [5.8, 2.7, 5.1, 1.9, 2.0], [7.1, 3.0, 5.9, 2.1, 2.0]]}\n"
        }
      ],
      "execution_count": 4
    },
    {
      "cell_type": "markdown",
      "source": "# (c) Tuple\n- Define a \"tuple\"\" as comprehensively and accurately as you would find in a dictionary. Provide a clear and concise explanation, covering its essential meaning, characteristics, and any relevant context.\n- Create a tuple in Python using the classes of Setosa, Versicolor and Virginica, allow elements ( start with 2 observations and 2 features per class) to be added\n- Show the output with a print statement\n- Add a third observation and a third feature of the Iris data set for each class\n- Show the output of your with a print statement",
      "metadata": {}
    },
    {
      "cell_type": "markdown",
      "source": "## Tuple is similar to lists, but immutable i.e. ordered and immutable collection of items to stores a sequence of elements that can be of different types. ##",
      "metadata": {}
    },
    {
      "cell_type": "code",
      "source": "## Type code for the problem here ##\n# Get species names\nspecies = [str(species_name) for species_name in iris.target_names]\n\n# Two features to be included\nfeatures_to_include = iris.feature_names[0:2]\n\n# Filter DataFrame with included features as well as target\nall_columns = features_to_include + ['target']\nsubset_df = iris_df[all_columns]\n\n# Group Dataframe as per species\nspecies_dict_df = { species_name: subset_df[subset_df['target'] == species_id]  for species_id, species_name in enumerate(species)}\n\n# Build list with two rows\nspecies_observations_list = [species_dict_df[species_name][0:2].values.tolist() for species_name in species]\nobservations_tuples= tuple(tuple(tuple(observation) for observation in species_observations) for species_observations in species_observations_list)\n\nprint(\"Tuple with two observations with two features for each classes\")\nprint(observations_tuples)\n\n# Add third observation with third feature to tuple\n# Since tuple are immutable therefore we can't modify observations_tuples, we will have to create a new tuple\nfeatures_to_include = iris.feature_names[0:3]\nall_columns = features_to_include + ['target']\nsubset_df = iris_df[all_columns]\nspecies_dict_df = { species_name: subset_df[subset_df['target'] == species_id]  for species_id, species_name in enumerate(species)}\nspecies_observations_list = [species_dict_df[species_name][0:3].values.tolist() for species_name in species]\nobservations_tuples= tuple(tuple(tuple(observation) for observation in species_observations) for species_observations in species_observations_list)\nprint(\"Tuple with three observations with three features for each classes\")\nprint(observations_tuples)",
      "metadata": {
        "trusted": true
      },
      "outputs": [
        {
          "name": "stdout",
          "output_type": "stream",
          "text": "Tuple with two observations with two features for each classes\n(((5.1, 3.5, 0.0), (4.9, 3.0, 0.0)), ((7.0, 3.2, 1.0), (6.4, 3.2, 1.0)), ((6.3, 3.3, 2.0), (5.8, 2.7, 2.0)))\nTuple with three observations with three features for each classes\n(((5.1, 3.5, 1.4, 0.0), (4.9, 3.0, 1.4, 0.0), (4.7, 3.2, 1.3, 0.0)), ((7.0, 3.2, 4.7, 1.0), (6.4, 3.2, 4.5, 1.0), (6.9, 3.1, 4.9, 1.0)), ((6.3, 3.3, 6.0, 2.0), (5.8, 2.7, 5.1, 2.0), (7.1, 3.0, 5.9, 2.0)))\n"
        }
      ],
      "execution_count": 26
    },
    {
      "cell_type": "markdown",
      "source": "# (d) Set\n- Define a \"set\"\" as comprehensively and accurately as you would find in a dictionary. Provide a clear and concise explanation, covering its essential meaning, characteristics, and any relevant context.\n- Create a set (1st set) in Python using the first observation of the Setosa class allowing elements to be added\n- Show the output with a print statement\n- Create another set (2nd set) by adding the second observation of the Setosa class \n- Show the output of the following operations with the 1st set and 2nd set with a print statement\n    * Difference\n    * Intersection\n    * Union",
      "metadata": {}
    },
    {
      "cell_type": "markdown",
      "source": "## Set is unordered collection of unique elements. It is mutable and element must be hashable",
      "metadata": {}
    },
    {
      "cell_type": "code",
      "source": "## Type the code for the problem here ##\n# Filter Dataframe for Setosa class is with index 0\nsetosa_df=iris_df[iris_df['target'] == 0]\n\n# Read first observation of setosa\nsetosa_one_observation = set(setosa_df.iloc[0].tolist())\nprint(\"Set of Setosa one observation\")\nprint(setosa_one_observation)\n\n# Create copy to build Setosa with two observations\nsetosa_two_observation = setosa_one_observation.copy()\nfor x in setosa_df.iloc[1]:\n    setosa_two_observation.add(x)\nprint(\"Set of Setosa two observations\")\nprint(setosa_two_observation)\n\n# Perform set difference operation\ndifference=setosa_two_observation.difference(setosa_one_observation)\nprint(\"Difference operation on set\")\nprint(difference)\n\n# Perform set intersection operation\nintersection=setosa_two_observation.intersection(setosa_one_observation)\nprint(\"Intersection operation on set\")\nprint(intersection)\n\n# Perform set union operation\nunion=setosa_two_observation.union(setosa_one_observation)\nprint(\"Union operation on set\")\nprint(union)\n",
      "metadata": {
        "trusted": true
      },
      "outputs": [
        {
          "name": "stdout",
          "output_type": "stream",
          "text": "Set of Setosa one observation\n{0.0, 3.5, 5.1, 1.4, 0.2}\nSet of Setosa two observations\n{0.0, 5.1, 3.5, 1.4, 3.0, 4.9, 0.2}\nDifference operation on set\n{4.9, 3.0}\nIntersection operation on set\n{0.0, 3.5, 5.1, 1.4, 0.2}\nUnion operation on set\n{0.0, 3.5, 3.0, 5.1, 1.4, 4.9, 0.2}\n"
        }
      ],
      "execution_count": 41
    },
    {
      "cell_type": "markdown",
      "source": "# References\n[1] Thomas H. Cormen, Charles E. Leiserson, Ronald L. Rivest, and Clifford Stein. Introduction to\nAlgorithms, Third Edition. MIT Press and McGraw-Hill, 2009. ISBN-13: 978-0-262-03384-8<br><br>\n[2] Thomas H. Cormen. The clrscode and clrscode3e packages for LaTeX2e, Retrived Jan 2010,\nhttp://www.cs.dartmouth.edu/ thc/clrscode/<br><br>\n[3] simpleilearn, Top 90+ Data Science Interview Questions and Answers: Basic to Technical,\nhttps://www.simplilearn.com/tutorials/data-science-tutorial/data-science-interview-questions<br><br>\n[4] simpleilearn, 22 Artificial Intelligence Interview Questions to Prepare,\nhttps://www.simplilearn.com/artificial-intelligence-ai-interview-questions-and-answers-article<br><br>\n[5] Python, Data Structures, https://docs.python.org/3/tutorial/datastructures.html",
      "metadata": {}
    }
  ]
}