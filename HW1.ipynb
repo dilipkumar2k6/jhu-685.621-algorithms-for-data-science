{
 "cells": [
  {
   "cell_type": "markdown",
   "metadata": {},
   "source": [
    "<h1 align=\"center\"><b>Homework Assignment 1 (100 points total)</b></h1>\n",
    "<h3 align=\"center\"><b>Assigned at the start of Module 1</b></h3>\n",
    "<h3 align=\"center\"><b>Due at the end of Module 2</b></h3><br>\n"
   ]
  },
  {
   "cell_type": "markdown",
   "metadata": {},
   "source": [
    "# Q1: Algorithm Analysis\n",
    "\n",
    "## Background on Algorithm Analysis (50 points total)\n",
    "\n",
    "- Constant Time (O(1)): Regardless of the input size, the algorithm takes a constant amount of time to complete.\n",
    "    - Accessing an element in an array by index.\n",
    "    - Inserting or deleting an element at the beginning of a linked list.\n",
    "\n",
    "\n",
    "- Linear Time (O(n)): The runtime grows linearly with the size of the input.\n",
    "    - Iterating through a list or array once.\n",
    "    - Searching for an element in an unsorted list by traversing it.\n",
    "\n",
    "\n",
    "- Logarithmic Time (O(log n)): As the input size grows, the runtime increases logarithmically.\n",
    "    - Binary search in a sorted array.\n",
    "    - Operations in a balanced binary search tree (BST).\n",
    "    \n",
    "\n",
    "- Quadratic Time (O(n^2)): The runtime grows quadratically with the input size.\n",
    "    - Nested loops where each loop iterates through the input.\n",
    "    - Some sorting algorithms like Bubble Sort or Selection Sort.\n",
    "\n",
    "\n",
    "- Exponential Time (O(2^n)): The runtime doubles with each addition to the input size.\n",
    "    - Algorithms involving recursive solutions that make repeated calls.\n",
    "    - Solving the Traveling Salesman Problem using brute force.\n",
    "    \n",
    "\n",
    "- Factorial Time (O(n!)): The runtime grows factorially with the input size.\n",
    "    - Permutation problems that explore all possible combinations, like the brute force solution for the Traveling Salesman Problem with no optimizations."
   ]
  },
  {
   "cell_type": "markdown",
   "metadata": {},
   "source": [
    "## Bubble Sort (Example)\n",
    "\n",
    "Use the below analysis and explanation as a template for answering the following questions on algorithm analysis. You are to analyze each algorithm line by line, calculate the runtime complexity, and provide an explanation in markdown."
   ]
  },
  {
   "cell_type": "code",
   "execution_count": 1,
   "metadata": {},
   "outputs": [],
   "source": [
    "def bubble_sort(arr):\n",
    "    n = len(arr)\n",
    "    for i in range(n):  # O(n)\n",
    "        for j in range(0, n-i-1):  # O(n)\n",
    "            if arr[j] > arr[j+1]:  # O(1)\n",
    "                arr[j], arr[j+1] = arr[j+1], arr[j]  # O(1)\n",
    "\n",
    "# Total Runtime Complexity:\n",
    "# Big O notation: O(n^2)\n",
    "# Big Omega notation: Ω(n)\n",
    "# Big Theta notation: Θ(n^2)\n"
   ]
  },
  {
   "cell_type": "markdown",
   "metadata": {},
   "source": [
    "Explanation:\n",
    "\n",
    "- The outer loop iterates 'n' times, where 'n' is the length of the array.\n",
    "- The inner loop also iterates 'n' times in the worst case.\n",
    "- The comparisons and swapping operations inside the inner loop are constant time ('O(1)').\n",
    "\n",
    "This results in a total runtime complexity of O(n^2) in the worst case, Ω(n) in the best case (already sorted), and Θ(n^2) in the average and worst cases, as both loops iterate over the input array."
   ]
  },
  {
   "cell_type": "markdown",
   "metadata": {},
   "source": [
    "## 1A Merge Sort (10 points)"
   ]
  },
  {
   "cell_type": "code",
   "execution_count": 2,
   "metadata": {},
   "outputs": [],
   "source": [
    "def merge_sort(arr):\n",
    "    if len(arr) > 1:  \n",
    "        mid = len(arr) // 2  \n",
    "        left_half = arr[:mid] \n",
    "        right_half = arr[mid:]  \n",
    "\n",
    "        merge_sort(left_half)  \n",
    "        merge_sort(right_half)  \n",
    "\n",
    "        i = j = k = 0  \n",
    "\n",
    "        while i < len(left_half) and j < len(right_half):  \n",
    "            if left_half[i] < right_half[j]:  \n",
    "                arr[k] = left_half[i]  \n",
    "                i += 1\n",
    "            else:\n",
    "                arr[k] = right_half[j]  \n",
    "                j += 1\n",
    "            k += 1\n",
    "\n",
    "        while i < len(left_half):  \n",
    "            arr[k] = left_half[i]  \n",
    "            i += 1\n",
    "            k += 1\n",
    "\n",
    "        while j < len(right_half):  \n",
    "            arr[k] = right_half[j]  \n",
    "            j += 1\n",
    "            k += 1\n",
    "\n",
    "# Total Runtime Complexity:\n",
    "# Big O notation:\n",
    "# Big Omega notation: \n",
    "# Big Theta notation\n"
   ]
  },
  {
   "cell_type": "markdown",
   "metadata": {},
   "source": [
    "Explanation:\n"
   ]
  },
  {
   "cell_type": "markdown",
   "metadata": {},
   "source": [
    "## 1B Binary Search (10 points)"
   ]
  },
  {
   "cell_type": "code",
   "execution_count": 3,
   "metadata": {},
   "outputs": [],
   "source": [
    "def binary_search(arr, target):\n",
    "    low = 0  \n",
    "    high = len(arr) - 1  \n",
    "\n",
    "    while low <= high:  \n",
    "        mid = (low + high) // 2  \n",
    "        mid_val = arr[mid]  \n",
    "\n",
    "        if mid_val == target:  \n",
    "            return mid  \n",
    "        elif mid_val < target:  \n",
    "            low = mid + 1 \n",
    "        else:\n",
    "            high = mid - 1  \n",
    "\n",
    "    return -1  \n",
    "\n",
    "# Total Runtime Complexity:\n",
    "# Big O notation:\n",
    "# Big Omega notation: \n",
    "# Big Theta notation: \n"
   ]
  },
  {
   "cell_type": "markdown",
   "metadata": {},
   "source": [
    "Explanation:\n"
   ]
  },
  {
   "cell_type": "markdown",
   "metadata": {},
   "source": [
    "## 1C Linear Search (10 points)"
   ]
  },
  {
   "cell_type": "code",
   "execution_count": 4,
   "metadata": {},
   "outputs": [],
   "source": [
    "def linear_search(arr, target):\n",
    "    for i in range(len(arr)): \n",
    "        if arr[i] == target:  \n",
    "            return i  \n",
    "    return -1  \n",
    "\n",
    "# Total Runtime Complexity:\n",
    "# Big O notation: \n",
    "# Big Omega notation:\n",
    "# Big Theta notation: \n"
   ]
  },
  {
   "cell_type": "markdown",
   "metadata": {},
   "source": [
    "Explanation:\n"
   ]
  },
  {
   "cell_type": "markdown",
   "metadata": {},
   "source": [
    "## 1D Selection Sort (10 points)"
   ]
  },
  {
   "cell_type": "code",
   "execution_count": 5,
   "metadata": {},
   "outputs": [],
   "source": [
    "def selection_sort(arr):\n",
    "    n = len(arr)\n",
    "    for i in range(n - 1): \n",
    "        min_index = i  \n",
    "        for j in range(i + 1, n):  \n",
    "            if arr[j] < arr[min_index]:  \n",
    "                min_index = j  \n",
    "        arr[i], arr[min_index] = arr[min_index], arr[i]  \n",
    "\n",
    "# Total Runtime Complexity:\n",
    "# Big O notation: \n",
    "# Big Omega notation: \n",
    "# Big Theta notation: \n"
   ]
  },
  {
   "cell_type": "markdown",
   "metadata": {},
   "source": [
    "Explanation:\n"
   ]
  },
  {
   "cell_type": "markdown",
   "metadata": {},
   "source": [
    "# 1E Heap Sort (10 points)"
   ]
  },
  {
   "cell_type": "code",
   "execution_count": null,
   "metadata": {},
   "outputs": [],
   "source": [
    "def heapify(arr, n, i):\n",
    "    largest = i                      \n",
    "    left = 2 * i + 1                 \n",
    "    right = 2 * i + 2             \n",
    "\n",
    "    if left < n and arr[left] > arr[largest]:\n",
    "        largest = left\n",
    "\n",
    "    if right < n and arr[right] > arr[largest]:\n",
    "        largest = right\n",
    "\n",
    "    if largest != i:\n",
    "        arr[i], arr[largest] = arr[largest], arr[i]\n",
    "        heapify(arr, n, largest)\n",
    "\n",
    "\n",
    "def heap_sort(arr):\n",
    "    n = len(arr)\n",
    "\n",
    "    for i in range(n // 2 - 1, -1, -1):\n",
    "        heapify(arr, n, i)\n",
    "\n",
    "    for i in range(n - 1, 0, -1):\n",
    "        arr[i], arr[0] = arr[0], arr[i]  \n",
    "        heapify(arr, i, 0)               \n"
   ]
  },
  {
   "cell_type": "markdown",
   "metadata": {},
   "source": [
    "Explanation:\n"
   ]
  },
  {
   "cell_type": "markdown",
   "metadata": {},
   "source": [
    "# Q2: Algorithm Design & Analysis (20 points)\n",
    "\n",
    "For this question, we will take the above process one step further. We are going to provide you with a common algorithm, and you are to complete the following:\n",
    "\n",
    "- Construct pseudocode for the algorithm.\n",
    "- Analyze your pseudocode line by line.\n",
    "- Provide the runtime complexity for the algorithm.\n",
    "- Provide an explanation justifying your analysis of the algorithm. \n",
    "\n",
    "You may select from the following:\n",
    "\n",
    "### 1. Euclidean Algorithm\n",
    "- **Category**: Number theory  \n",
    "- **Purpose**: Finds the greatest common divisor (GCD) of two numbers using repeated division.  \n",
    "\n",
    "### 2. Fibonacci Sequence (Iterative or Recursive)\n",
    "- **Category**: Sequence generation  \n",
    "- **Purpose**: Generates the Fibonacci sequence, where each number is the sum of the two preceding ones.  \n",
    "\n",
    "### 3. Prime Number Checking (Trial Division)\n",
    "- **Category**: Number theory  \n",
    "- **Purpose**: Determines whether a number is prime by checking divisibility up to its square root.  \n",
    "\n"
   ]
  },
  {
   "cell_type": "markdown",
   "metadata": {},
   "source": [
    "# Q3: Probabilities and Distributions (30 points total)"
   ]
  },
  {
   "cell_type": "markdown",
   "metadata": {},
   "source": [
    " Objective: Demonstrate understanding of probability distributions, moments, and their data science applications.\n",
    "\n",
    "## 3A Dataset Identification (10 points)\n",
    "\n",
    " Find a publicly available dataset that exhibits characteristics of a particular probability distribution (e.g., Poisson, Normal, Exponential).\n",
    "\n",
    " Over the course of this question you will help prove that this dataset aligns with that chosen distribution."
   ]
  },
  {
   "cell_type": "code",
   "execution_count": null,
   "metadata": {},
   "outputs": [],
   "source": [
    "# Import Python Modules\n",
    "\n",
    "\n",
    "# Import dataset"
   ]
  },
  {
   "cell_type": "markdown",
   "metadata": {},
   "source": [
    "Describe your dataset:\n",
    "\n"
   ]
  },
  {
   "cell_type": "markdown",
   "metadata": {},
   "source": [
    "## 3B Compute the first four moments for each feature (column). (10 points)\n",
    "Select a minimum of two features for your response."
   ]
  },
  {
   "cell_type": "code",
   "execution_count": null,
   "metadata": {},
   "outputs": [],
   "source": [
    "# Perform computation here."
   ]
  },
  {
   "cell_type": "markdown",
   "metadata": {},
   "source": [
    "## 3C Interpret these moments in the context of the dataset and compare them to the theoretical values of the selected distribution. (10 points)\n",
    "\n",
    "At a minimum you should perform the following:\n",
    "- Compute the theoretical values of the first four moments.\n",
    "- Plot the data and fit the chosen distribution visually (using histograms, bar charts, etc.)\n",
    "- Provide a written analysis of the differences between the theoretical and calculated values."
   ]
  }
 ],
 "metadata": {
  "interpreter": {
   "hash": "aee8b7b246df8f9039afb4144a1f6fd8d2ca17a180786b69acc140d282b71a49"
  },
  "kernelspec": {
   "display_name": "Python 3.9.1 64-bit",
   "name": "python3"
  },
  "language_info": {
   "codemirror_mode": {
    "name": "ipython",
    "version": 3
   },
   "file_extension": ".py",
   "mimetype": "text/x-python",
   "name": "python",
   "nbconvert_exporter": "python",
   "pygments_lexer": "ipython3",
   "version": "3.9.1"
  },
  "orig_nbformat": 4
 },
 "nbformat": 4,
 "nbformat_minor": 2
}
