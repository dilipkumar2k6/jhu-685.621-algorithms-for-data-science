{
 "cells": [
  {
   "cell_type": "markdown",
   "metadata": {},
   "source": [
    "# <h3 align=\"center\">__Module 10 Activity__</h3>\n",
    "# <h3 align=\"center\">__Assigned at the start of Module 10__</h3>\n",
    "# <h3 align=\"center\">__Due at the end of Module 10__</h3><br>\n",
    "\n"
   ]
  },
  {
   "cell_type": "markdown",
   "metadata": {},
   "source": [
    "# Weekly Discussion Forum Participation\n",
    "\n",
    "Each week, you are required to participate in the module’s discussion forum. The discussion forum consists of the week's Module Activity, which is released at the beginning of the module. You must complete/attempt the activity before you can post about the activity and anything that relates to the topic. \n",
    "\n",
    "## Grading of the Discussion\n",
    "\n",
    "### 1. Initial Post:\n",
    "Create your thread by **Day 5 (Saturday night at midnight, PST).**\n",
    "\n",
    "### 2. Responses:\n",
    "Respond to at least two other posts by **Day 7 (Monday night at midnight, PST).**\n",
    "\n",
    "---\n",
    "\n",
    "## Grading Criteria:\n",
    "\n",
    "Your participation will be graded as follows:\n",
    "\n",
    "### Full Credit (100 points):\n",
    "- Submit your initial post by **Day 5.**\n",
    "- Respond to at least two other posts by **Day 7.**\n",
    "\n",
    "### Half Credit (50 points):\n",
    "- If your initial post is late but you respond to two other posts.\n",
    "- If your initial post is on time but you fail to respond to at least two other posts.\n",
    "\n",
    "### No Credit (0 points):\n",
    "- If both your initial post and responses are late.\n",
    "- If you fail to submit an initial post and do not respond to any others.\n",
    "\n",
    "---\n",
    "\n",
    "## Additional Notes:\n",
    "\n",
    "- **Late Initial Posts:** Late posts will automatically receive half credit if two responses are completed on time.\n",
    "- **Substance Matters:** Responses must be thoughtful and constructive. Comments like “Great post!” or “I agree!” without further explanation will not earn credit.\n",
    "- **Balance Participation:** Aim to engage with threads that have fewer or no responses to ensure a balanced discussion.\n",
    "\n",
    "---\n",
    "\n",
    "## Avoid:\n",
    "- A number of posts within a very short time-frame, especially immediately prior to the posting deadline.\n",
    "- Posts that complement another post, and then consist of a summary of that.\n"
   ]
  },
  {
   "cell_type": "markdown",
   "metadata": {},
   "source": [
    "# Module Activity: Exploring and Applying Unsupervised Learning Techniques\n",
    "\n",
    "## Objectives:\n",
    "1. Practice implementing basic unsupervised learning algorithms using Python.\n",
    "2. Visualize and interpret results from clustering, dimensionality reduction, and anomaly detection.\n",
    "3. Understand the role of distance metrics, eigenvalues, and thresholds in algorithm performance.\n",
    "\n",
    "---\n",
    "\n",
    "## Instructions:\n",
    "\n",
    "### Step 1: Data Exploration\n",
    "- Work with the iris dataset loaded using Python's `scikit-learn`.\n",
    "- Explore the dataset by plotting the data points to observe natural groupings and potential outliers.\n",
    "\n",
    "#### Code Snippet:\n",
    "```python\n",
    "from sklearn.datasets import load_iris\n",
    "import matplotlib.pyplot as plt\n",
    "\n",
    "data = load_iris()\n",
    "X = data.data[:, :2]  # Use the first two features\n",
    "plt.scatter(X[:, 0], X[:, 1], c='gray')\n",
    "plt.xlabel('Feature 1')\n",
    "plt.ylabel('Feature 2')\n",
    "plt.title('Data Exploration')\n",
    "plt.show()\n"
   ]
  },
  {
   "cell_type": "markdown",
   "metadata": {},
   "source": [
    "## Step 2: Clustering with K-Means\n",
    "- Implement K-Means clustering using `scikit-learn`, choosing \\( k=3 \\).\n",
    "- Visualize the results with cluster centroids and assigned labels.\n",
    "- Discuss how initialization affects the results by trying multiple random seeds.\n",
    "\n",
    "### Code Snippet:\n",
    "```python\n",
    "from sklearn.cluster import KMeans\n",
    "\n",
    "kmeans = KMeans(n_clusters=3, random_state=42)\n",
    "kmeans.fit(X)\n",
    "labels = kmeans.labels_\n",
    "centroids = kmeans.cluster_centers_\n",
    "\n",
    "plt.scatter(X[:, 0], X[:, 1], c=labels, cmap='viridis', s=50)\n",
    "plt.scatter(centroids[:, 0], centroids[:, 1], c='red', marker='X', s=100)\n",
    "plt.title('K-Means Clustering')\n",
    "plt.show()\n"
   ]
  },
  {
   "cell_type": "markdown",
   "metadata": {},
   "source": [
    "## Step 3: Dimensionality Reduction with PCA (20 Minutes)\n",
    "- Perform Principal Component Analysis (PCA) to reduce the dataset to 2D.\n",
    "- Visualize the transformed dataset and discuss how PCA retains variance.\n",
    "\n",
    "### Code Snippet:\n",
    "```python\n",
    "from sklearn.decomposition import PCA\n",
    "\n",
    "pca = PCA(n_components=2)\n",
    "X_pca = pca.fit_transform(data.data)\n",
    "\n",
    "plt.scatter(X_pca[:, 0], X_pca[:, 1], c=data.target, cmap='viridis', s=50)\n",
    "plt.xlabel('Principal Component 1')\n",
    "plt.ylabel('Principal Component 2')\n",
    "plt.title('PCA Dimensionality Reduction')\n",
    "plt.show()\n"
   ]
  },
  {
   "cell_type": "markdown",
   "metadata": {},
   "source": [
    "## Step 4: Anomaly Detection with DBSCAN (20 Minutes)\n",
    "- Apply DBSCAN to detect anomalies in the dataset.\n",
    "- Tune the `eps` and `min_samples` parameters and visualize outliers.\n",
    "- Discuss how varying these parameters impacts results.\n",
    "\n",
    "### Code Snippet:\n",
    "```python\n",
    "from sklearn.cluster import DBSCAN\n",
    "\n",
    "dbscan = DBSCAN(eps=0.5, min_samples=5)\n",
    "dbscan_labels = dbscan.fit_predict(X)\n",
    "\n",
    "plt.scatter(X[:, 0], X[:, 1], c=dbscan_labels, cmap='viridis', s=50)\n",
    "plt.title('DBSCAN Anomaly Detection')\n",
    "plt.show()\n"
   ]
  },
  {
   "cell_type": "markdown",
   "metadata": {},
   "source": [
    "## Discussion Questions:\n",
    "1. What differences did you observe when changing the parameters for K-Means and DBSCAN?\n",
    "2. How does PCA simplify data while retaining key patterns?\n",
    "3. Why are distance metrics crucial in these algorithms, and how would results change with different metrics?\n",
    "\n",
    "---\n",
    "\n",
    "## Deliverables:\n",
    "Students will:\n",
    "- Submit their modified code and plots for each task.\n",
    "- Write a brief reflection (2-3 sentences per task) on what they learned and found challenging.\n"
   ]
  }
 ],
 "metadata": {
  "interpreter": {
   "hash": "aee8b7b246df8f9039afb4144a1f6fd8d2ca17a180786b69acc140d282b71a49"
  },
  "kernelspec": {
   "display_name": "Python 3.9.1 64-bit",
   "name": "python3"
  },
  "language_info": {
   "codemirror_mode": {
    "name": "ipython",
    "version": 3
   },
   "file_extension": ".py",
   "mimetype": "text/x-python",
   "name": "python",
   "nbconvert_exporter": "python",
   "pygments_lexer": "ipython3",
   "version": "3.12.2"
  },
  "orig_nbformat": 4
 },
 "nbformat": 4,
 "nbformat_minor": 2
}
